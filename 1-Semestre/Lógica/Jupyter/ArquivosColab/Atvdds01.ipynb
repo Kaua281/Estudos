{
  "nbformat": 4,
  "nbformat_minor": 0,
  "metadata": {
    "colab": {
      "provenance": []
    },
    "kernelspec": {
      "name": "python3",
      "display_name": "Python 3"
    },
    "language_info": {
      "name": "python"
    }
  },
  "cells": [
    {
      "cell_type": "markdown",
      "source": [
        "Inicio\n",
        "X = 10\n",
        "Se X >5\n",
        "escreva(\"X é maior que 5\")\n",
        "Senão\n",
        "escreva(\"X é menor que 5\"\n",
        "Fimse\n",
        "Fim\n",
        "\n",
        "\n",
        "---\n",
        "\n",
        "\n",
        "\n"
      ],
      "metadata": {
        "id": "kpORJC3eTHJi"
      }
    },
    {
      "cell_type": "code",
      "execution_count": null,
      "metadata": {
        "id": "fUgML5u6SwZn"
      },
      "outputs": [],
      "source": [
        "x=int(input(\"Digite um número \"))\n",
        "if x > 5:\n",
        "  print(\"X é maior que 5\")\n",
        "else:\n",
        "  print(\"X é menor que 5\")"
      ]
    },
    {
      "cell_type": "markdown",
      "source": [
        "Inicio\n",
        "Escreva (\"Digite a senha:\")\n",
        "Leia Senha\n",
        "Se senha == Alfa\n",
        "Escreva (\"Senha correta // Porta Aberta\")\n",
        "Senão\n",
        "Escreva (\"Senha incorreta // tente novamente\")\n",
        "Fimse\n",
        "ir para Inicio\n",
        "Fim\n",
        "\n",
        "---\n",
        "\n"
      ],
      "metadata": {
        "id": "06h14ZUHbc1Q"
      }
    },
    {
      "cell_type": "code",
      "source": [
        "Senha = str(input(\"Digite a senha \"))\n",
        "if Senha == \"Herlon281\":\n",
        "  print(\"Senha correta \\\\ Porta aberta\")\n",
        "else:\n",
        "  print(\"Senha incorreta \\\\ tente novamente\")"
      ],
      "metadata": {
        "id": "A0pK4FgFY4ab"
      },
      "execution_count": null,
      "outputs": []
    },
    {
      "cell_type": "markdown",
      "source": [
        "\n",
        "\n"
      ],
      "metadata": {
        "id": "r5ObJ0J2gyJa"
      }
    },
    {
      "cell_type": "code",
      "source": [
        "import time\n",
        "\n",
        "Cont = 0\n",
        "while Cont == 0:\n",
        "  time.sleep(1)\n",
        "  print(\"oi\")"
      ],
      "metadata": {
        "id": "8HCsMkG0insg"
      },
      "execution_count": null,
      "outputs": []
    },
    {
      "cell_type": "code",
      "source": [
        "Dia = int(input(\"Qual dia você nasceu? \"))\n",
        "Mes = int(input(\"Qual mês você nasceu? \"))\n",
        "\n",
        "if Dia >= 21 and Mes == 3 or Dia <= 20 and Mes == 4:\n",
        "   print(\" você é de Áries\")\n",
        "elif Dia >= 21 and Mes == 4 or Dia <= 20 and Mes == 5:\n",
        "   print(\"você é de touro\")\n",
        "elif Dia >= 21 and Mes == 5 or Dia <= 20 and Mes == 6:\n",
        "   print(\"você é de gêmeos\")\n",
        "elif Dia >= 21 and Mes == 6 or Dia <= 22 and Mes == 7:\n",
        "   print(\"você é de câncer\")\n",
        "elif Dia >= 23 and Mes == 7 or Dia <= 22 and Mes == 8:\n",
        "   print(\"você é de leão\")\n",
        "elif Dia >= 23 and Mes == 8 or Dia <= 22 and Mes == 9:\n",
        "   print(\"você é de Virgem\")\n",
        "elif Dia >= 23 and Mes == 9 or Dia <= 22 and Mes == 10:\n",
        "   print(\"você é de Libra\")\n",
        "elif Dia >= 23 and Mes == 10 or Dia <= 21 and Mes == 11:\n",
        "   print(\"você é de escorpião\")\n",
        "elif Dia >= 22 and Mes == 11 or Dia <= 21 and Mes == 12:\n",
        "   print(\"você é de sargitario\")\n",
        "elif Dia >= 22 and Mes == 12 or Dia <= 20 and Mes == 1:\n",
        "   print(\"você é de Capricórnio\")\n",
        "elif Dia >= 21 and Mes == 1 or Dia <= 18 and Mes == 2:\n",
        "   print(\"você é de aquário\")\n",
        "elif Dia >= 19 and Mes == 2 or Dia <= 20 and Mes == 3:\n",
        "   print(\"você é de peixes\")"
      ],
      "metadata": {
        "colab": {
          "base_uri": "https://localhost:8080/"
        },
        "id": "EGtedjt4vyLw",
        "outputId": "1c247e56-3e26-4f08-fe7c-fe259bac3fde"
      },
      "execution_count": null,
      "outputs": [
        {
          "output_type": "stream",
          "name": "stdout",
          "text": [
            "Qual dia você nasceu? 1\n",
            "Qual mês você nasceu? 2\n",
            "você é de aquário\n"
          ]
        }
      ]
    },
    {
      "cell_type": "code",
      "source": [
        "x = int(input(\"Digite um número: \"))\n",
        "y = int(input(\"Digite outro número: \"))\n",
        "z = x + y\n",
        "print(\"A soma de {} e de {} é igual a {}\".format(x,y,z))"
      ],
      "metadata": {
        "colab": {
          "base_uri": "https://localhost:8080/"
        },
        "id": "LvHxSGwx2XTF",
        "outputId": "886fe9b1-d379-44b8-c83e-e1b98b5dc47f"
      },
      "execution_count": null,
      "outputs": [
        {
          "output_type": "stream",
          "name": "stdout",
          "text": [
            "Digite um número: 22\n",
            "Digite outro número: 3\n",
            "A soma de 22 e de 3 é igual a 25\n"
          ]
        }
      ]
    }
  ]
}