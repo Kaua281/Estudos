{
  "nbformat": 4,
  "nbformat_minor": 0,
  "metadata": {
    "colab": {
      "provenance": []
    },
    "kernelspec": {
      "name": "python3",
      "display_name": "Python 3"
    },
    "language_info": {
      "name": "python"
    }
  },
  "cells": [
    {
      "cell_type": "code",
      "source": [
        "#Defina como inteiro as variáveis\n",
        "#i = int\n",
        "\n",
        "for i in range(1,11):\n",
        "  print(f\"5 / {i} = {i*5}\")"
      ],
      "metadata": {
        "colab": {
          "base_uri": "https://localhost:8080/"
        },
        "id": "4SRLRAGoVewe",
        "outputId": "1e6f7df1-880d-4d0e-8745-87ea1a95cc76"
      },
      "execution_count": null,
      "outputs": [
        {
          "output_type": "stream",
          "name": "stdout",
          "text": [
            "5 / 1 = 5\n",
            "5 / 2 = 10\n",
            "5 / 3 = 15\n",
            "5 / 4 = 20\n",
            "5 / 5 = 25\n",
            "5 / 6 = 30\n",
            "5 / 7 = 35\n",
            "5 / 8 = 40\n",
            "5 / 9 = 45\n",
            "5 / 10 = 50\n"
          ]
        }
      ]
    },
    {
      "cell_type": "code",
      "source": [
        "i = int(input(\"Digite uma quantidade de números a serem multiplicados: \"))\n",
        "for i in range(0,i):\n",
        "  print(f\"O dobro de {i} é = {i*2}\")"
      ],
      "metadata": {
        "colab": {
          "base_uri": "https://localhost:8080/"
        },
        "id": "gbRmdOJvgHwk",
        "outputId": "e86d437f-85d0-4ec6-e643-f65584d0884c"
      },
      "execution_count": null,
      "outputs": [
        {
          "output_type": "stream",
          "name": "stdout",
          "text": [
            "Digite uma quantidade de números a serem multiplicados: 11\n",
            "O dobro de 0 é = 0\n",
            "O dobro de 1 é = 2\n",
            "O dobro de 2 é = 4\n",
            "O dobro de 3 é = 6\n",
            "O dobro de 4 é = 8\n",
            "O dobro de 5 é = 10\n",
            "O dobro de 6 é = 12\n",
            "O dobro de 7 é = 14\n",
            "O dobro de 8 é = 16\n",
            "O dobro de 9 é = 18\n",
            "O dobro de 10 é = 20\n"
          ]
        }
      ]
    },
    {
      "cell_type": "code",
      "source": [
        "for i in range(20,9,-1):\n",
        "  print(i)"
      ],
      "metadata": {
        "id": "OT4ArDk0u4Y6",
        "colab": {
          "base_uri": "https://localhost:8080/"
        },
        "outputId": "232c841d-b200-4b6a-e9dc-ad604c9862a5"
      },
      "execution_count": null,
      "outputs": [
        {
          "output_type": "stream",
          "name": "stdout",
          "text": [
            "20\n",
            "19\n",
            "18\n",
            "17\n",
            "16\n",
            "15\n",
            "14\n",
            "13\n",
            "12\n",
            "11\n",
            "10\n"
          ]
        }
      ]
    },
    {
      "cell_type": "code",
      "source": [
        "soma = 0\n",
        "for i in range(1,6):\n",
        "  idades = int(input(\"Informe a idade: \"))\n",
        "  soma += idades\n",
        "media = soma/5\n",
        "print(f\"A média da idade dos 5 alunos é {media}\")\n",
        "\n",
        "\n",
        "\n",
        "print(\"alguma coisa\", 12, \"alguma\")\n",
        "print(\"Alguma coisa {}\".format(12))\n",
        "print(f\"Alguma coisa {12}\")"
      ],
      "metadata": {
        "colab": {
          "base_uri": "https://localhost:8080/"
        },
        "id": "G2X60uW10W2Q",
        "outputId": "688b9173-e4a8-4819-c246-467cb89c405f"
      },
      "execution_count": null,
      "outputs": [
        {
          "output_type": "stream",
          "name": "stdout",
          "text": [
            "Informe a idade: 18\n",
            "Informe a idade: 18\n",
            "Informe a idade: 17\n",
            "Informe a idade: 18\n",
            "Informe a idade: 18\n",
            "A média da idade dos 5 alunos é 17.8\n"
          ]
        }
      ]
    },
    {
      "cell_type": "code",
      "source": [
        "for i in range(0,101,2):\n",
        "  print(i)"
      ],
      "metadata": {
        "id": "uhTRoij98aAn"
      },
      "execution_count": null,
      "outputs": []
    },
    {
      "cell_type": "code",
      "source": [
        "soma = 0\n",
        "i = int(input(\"Digite um número: \"))\n",
        "for i in range(1,i):\n",
        "  somas = soma + i\n",
        "  media = somas/i\n",
        "  print(f\"{soma} é = {media}\")"
      ],
      "metadata": {
        "colab": {
          "base_uri": "https://localhost:8080/"
        },
        "id": "kP5Ca-Na-9w-",
        "outputId": "63398f9d-c0da-46aa-90be-55120d82b4d7"
      },
      "execution_count": null,
      "outputs": [
        {
          "output_type": "stream",
          "name": "stdout",
          "text": [
            "Digite um número: 4\n",
            "0 é = 1.0\n",
            "0 é = 1.0\n",
            "0 é = 1.0\n"
          ]
        }
      ]
    }
  ]
}