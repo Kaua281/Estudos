{
 "cells": [
  {
   "cell_type": "code",
   "execution_count": 5,
   "id": "684772f5",
   "metadata": {},
   "outputs": [],
   "source": [
    "import pyautogui as pya\n",
    "import pyperclip as pyc\n",
    "import time "
   ]
  },
  {
   "cell_type": "code",
   "execution_count": 13,
   "id": "d146ee7f",
   "metadata": {},
   "outputs": [],
   "source": [
    "# 0 - Abrir o Navegador\n",
    "pya.click(x=117, y=745, button='right')\n",
    "time.sleep(2)\n",
    "pya.click(x=120, y=553)\n",
    "\n",
    "# 1 - Abrir o Site do Lolesports\n",
    "\n",
    "time.sleep(2)\n",
    "pya.hotkey('ctrl', 't')\n",
    "pyc.copy('https://lolesports.com')\n",
    "pya.hotkey('ctrl', 'v')\n",
    "pya.hotkey('enter')\n",
    "time.sleep(5)\n",
    "\n",
    "# 2 - Acessar a live\n",
    "\n",
    "pya.click(x=96, y=256)"
   ]
  },
  {
   "cell_type": "code",
   "execution_count": null,
   "id": "6d4316b2",
   "metadata": {},
   "outputs": [],
   "source": []
  }
 ],
 "metadata": {
  "kernelspec": {
   "display_name": "Python 3 (ipykernel)",
   "language": "python",
   "name": "python3"
  },
  "language_info": {
   "codemirror_mode": {
    "name": "ipython",
    "version": 3
   },
   "file_extension": ".py",
   "mimetype": "text/x-python",
   "name": "python",
   "nbconvert_exporter": "python",
   "pygments_lexer": "ipython3",
   "version": "3.9.7"
  }
 },
 "nbformat": 4,
 "nbformat_minor": 5
}
