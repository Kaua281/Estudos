{
 "cells": [
  {
   "cell_type": "code",
   "execution_count": 20,
   "id": "ec1f6afa",
   "metadata": {
    "scrolled": false
   },
   "outputs": [],
   "source": [
    "import pyautogui as pya\n",
    "import pyperclip as pyc\n",
    "import time "
   ]
  },
  {
   "cell_type": "code",
   "execution_count": null,
   "id": "27ab499e",
   "metadata": {},
   "outputs": [],
   "source": [
    "x = 0\n",
    "time.sleep(2)\n",
    "pya.hotkey('ctrl', 't')\n",
    "time.sleep(2)\n",
    "pyc.copy('https://www.instagram.com/p/Ch6KBzfj2xI/')\n",
    "pya.hotkey('ctrl', 'v')\n",
    "pya.hotkey('enter')\n",
    "time.sleep(5)\n",
    "    \n",
    "while x == 0:\n",
    " pya.click(x=802, y=631)\n",
    "pyc.copy('Equipe Reinado Já Ganhou💙🦁')\n",
    "pya.hotkey('ctrl', 'v')\n",
    "time.sleep(2)\n",
    "pya.hotkey('enter')\n",
    "time.sleep(20)"
   ]
  },
  {
   "cell_type": "code",
   "execution_count": null,
   "id": "1e034ec8",
   "metadata": {},
   "outputs": [],
   "source": []
  },
  {
   "cell_type": "code",
   "execution_count": null,
   "id": "eb0e98b5",
   "metadata": {},
   "outputs": [],
   "source": []
  }
 ],
 "metadata": {
  "kernelspec": {
   "display_name": "Python 3 (ipykernel)",
   "language": "python",
   "name": "python3"
  },
  "language_info": {
   "codemirror_mode": {
    "name": "ipython",
    "version": 3
   },
   "file_extension": ".py",
   "mimetype": "text/x-python",
   "name": "python",
   "nbconvert_exporter": "python",
   "pygments_lexer": "ipython3",
   "version": "3.9.7"
  }
 },
 "nbformat": 4,
 "nbformat_minor": 5
}
