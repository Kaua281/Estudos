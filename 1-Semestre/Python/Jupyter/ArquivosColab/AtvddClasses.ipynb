{
  "nbformat": 4,
  "nbformat_minor": 0,
  "metadata": {
    "colab": {
      "provenance": []
    },
    "kernelspec": {
      "name": "python3",
      "display_name": "Python 3"
    },
    "language_info": {
      "name": "python"
    }
  },
  "cells": [
    {
      "cell_type": "code",
      "execution_count": null,
      "metadata": {
        "colab": {
          "base_uri": "https://localhost:8080/"
        },
        "id": "vK7noSbWiLAS",
        "outputId": "4ed62537-b268-4677-c28b-33338c205901"
      },
      "outputs": [
        {
          "output_type": "stream",
          "name": "stdout",
          "text": [
            "Qual a marca do seu carro? Ferrari\n",
            "Qual a cor do seu carro? Vermelho\n",
            "Quantas portas tem o seu carro? 2\n",
            "Digite se 1 deseja ver as informações digitadas:1\n",
            "A Marca do meu carro é  Ferrari\n",
            "A Cor do meu carro é  Vermelho\n",
            "O seu carro tem 2 portas\n"
          ]
        }
      ],
      "source": [
        "class Automovel:\n",
        "  pass\n",
        "carro = Automovel()\n",
        "\n",
        "carro.marca = input(\"Qual a marca do seu carro? \")\n",
        "carro.cor = input(\"Qual a cor do seu carro? \")\n",
        "carro.portas = input(\"Quantas portas tem o seu carro? \")\n",
        "\n",
        "x = int(input(\"Digite se 1 deseja ver as informações digitadas:\"))\n",
        "if x == 1:\n",
        " print(\"A Marca do meu carro é \",carro.marca)\n",
        " print(\"A Cor do meu carro é \", carro.cor)\n",
        " print(f\"O seu carro tem {carro.portas} portas\")\n",
        "else:\n",
        "  print(\"Fim do Programa\")"
      ]
    },
    {
      "cell_type": "code",
      "source": [
        "class Pessoa:\n",
        "  def definir_nome(self, nome):\n",
        "    self.nome = nome\n",
        "\n",
        "  def definir_idade(self, idade):\n",
        "    self.idade = idade\n",
        "\n",
        "  def apresentar(self):\n",
        "    print(f\"Olá, meu nome é {self.nome} e tenho {self.idade} anos\")\n",
        "\n",
        "  def falar(self, mensagem):\n",
        "    print(f\"{self.nome} diz: {mensagem}\")\n",
        "\n",
        "p1=Pessoa()\n",
        "p1.definir_nome(\"João\")\n",
        "p1.definir_idade(25)\n",
        "p1.apresentar()\n",
        "p1.falar(\"Oi, tudo bem\")"
      ],
      "metadata": {
        "colab": {
          "base_uri": "https://localhost:8080/"
        },
        "id": "aMlWYnXTn0ev",
        "outputId": "6cda4092-0536-4982-df49-d4f2a730c68f"
      },
      "execution_count": null,
      "outputs": [
        {
          "output_type": "stream",
          "name": "stdout",
          "text": [
            "Olá, meu nome é João e tenho 25 anos\n",
            "João diz: Oi, tudo bem\n"
          ]
        }
      ]
    },
    {
      "cell_type": "code",
      "source": [
        "class Bola:\n",
        "  def trocarCor(self, cor):\n",
        "    self.cor = cor\n",
        "\n",
        "  def mostraCor(self):\n",
        "    return self.cor\n",
        "\n",
        "b = Bola()\n",
        "b.cor = \"Azul\"\n",
        "print(b.mostraCor())\n",
        "b.trocarCor(\"Vermelha\")\n",
        "print(b.mostraCor())"
      ],
      "metadata": {
        "colab": {
          "base_uri": "https://localhost:8080/"
        },
        "id": "0t-k8K3h7WMi",
        "outputId": "3e2d881d-ca7f-49f4-aa40-ebb8a51b9f67"
      },
      "execution_count": null,
      "outputs": [
        {
          "output_type": "stream",
          "name": "stdout",
          "text": [
            "Azul\n",
            "Vermelha\n"
          ]
        }
      ]
    },
    {
      "cell_type": "code",
      "source": [
        "nome = str()\n",
        "idade = int()\n",
        "CDC = str(2)\n",
        "\n",
        "class Colegas:\n",
        "  def __init__(self, nome, idade,CorDoCabelo):\n",
        "    self.nome = nome\n",
        "    self.idade = int(idade)\n",
        "    self.CorDoCabelo = CDC\n",
        "teste = (nome,idade,CDC)\n",
        "\n",
        "while True:\n",
        "  print(\"\"\"1 - adicionar um colega\n",
        "2 - imprimir as informações de cada colega\n",
        "3 - sair do programa\"\"\")\n",
        "  x = int(input(\"Digite a ação tomada: \"))\n",
        "  if x == 1:\n",
        "   nome = input(\"Digite o nome do colega: \")\n",
        "   idade = int(input(\"Digite a idade do colega: \"))\n",
        "   CDC = input(\"Qual a cor do cabelo do colega: \")\n",
        "  elif x == 2:\n",
        "    print(f\"{nome} tem {idade} anos e tem cabelo {CDC}\")\n",
        "  elif x == 3:\n",
        "    break"
      ],
      "metadata": {
        "id": "4jqqT7o20lU2"
      },
      "execution_count": null,
      "outputs": []
    },
    {
      "cell_type": "code",
      "source": [
        "class Carro:\n",
        "  def __init__(self,VelMax,Pot,NuBancos):\n",
        "    self.VelMax = VelMax\n",
        "    self.Pot = Pot\n",
        "    self.NuBancos = NuBancos\n",
        "    self.estado = False\n",
        "\n",
        "  def liga_desliga(self):\n",
        "    if self.estado == False:\n",
        "      self.estado = True\n",
        "    else:\n",
        "      self.estado = False\n",
        "\n",
        "JGR = Carro(250,350,5)\n",
        "print(JGR.estado)\n",
        "JGR.liga_desliga()\n",
        "print(JGR.estado,)"
      ],
      "metadata": {
        "colab": {
          "base_uri": "https://localhost:8080/"
        },
        "id": "fHQmaYA27q3m",
        "outputId": "a277d65b-f86a-46a3-abc7-609692a8b30c"
      },
      "execution_count": null,
      "outputs": [
        {
          "output_type": "stream",
          "name": "stdout",
          "text": [
            "False\n",
            "True\n"
          ]
        }
      ]
    },
    {
      "cell_type": "code",
      "source": [
        "class Jogo:\n",
        "\n",
        "  nivel = 8\n",
        "\n",
        "  def __init__(self, forca, magia, resistencia):\n",
        "    self.forca = forca\n",
        "    self.magia = magia\n",
        "    self.res = resistencia\n",
        "    self.nivel = Jogo.nivel\n",
        "\n",
        "  def atacar_raio(self):\n",
        "    self.res -= 5\n",
        "    self.forca -= 10\n",
        "\n",
        "  def atacar_soco(self):\n",
        "    self.res -= 10\n",
        "    self.forca -= 10\n",
        "\n",
        "  def pular_nivel(self):\n",
        "    Jogo.nivel += 1\n",
        "    self.nivel = Jogo.nivel\n",
        "\n",
        "  def exercicio(self):\n",
        "    self.res += 5\n",
        "    self.forca += 10\n",
        "\n",
        "  def cheat(self):\n",
        "    self.pular_nivel()\n",
        "\n",
        "  def status(self):\n",
        "    print(f\"\"\"Força = {self.forca} Magia = {self.magia} Resistência: {self.res}\n",
        "Nível: {self.nivel}\"\"\")\n",
        "\n",
        "player1= Jogo(76, 95, 89)\n",
        "player1.status()\n",
        "\n",
        "player1.atacar_raio()\n",
        "player1.status()\n",
        "\n",
        "player1.atacar_soco()\n",
        "player1.status()\n",
        "\n",
        "player1.exercicio()\n",
        "player1.status()\n",
        "\n",
        "print(player1.forca)\n",
        "print(player1.magia)\n",
        "print(player1.res)\n",
        "print(player1.nivel)\n"
      ],
      "metadata": {
        "colab": {
          "base_uri": "https://localhost:8080/"
        },
        "id": "ogFYkWqzBAib",
        "outputId": "82894be2-86b5-495e-b884-1d930635b960"
      },
      "execution_count": null,
      "outputs": [
        {
          "output_type": "stream",
          "name": "stdout",
          "text": [
            "Força = 76 Magia = 95 Resistência: 89 \n",
            "Nível: 8\n",
            "Força = 66 Magia = 95 Resistência: 84 \n",
            "Nível: 8\n",
            "Força = 56 Magia = 95 Resistência: 74 \n",
            "Nível: 8\n",
            "Força = 66 Magia = 95 Resistência: 79 \n",
            "Nível: 8\n",
            "66\n",
            "95\n",
            "79\n",
            "8\n"
          ]
        }
      ]
    },
    {
      "cell_type": "code",
      "source": [
        "class Televisão:\n",
        "  def __init__(self,marca,peso,volume,polegadas):\n",
        "    self.__marca = marca\n",
        "    self.__peso = peso\n",
        "    self.__volume = volume\n",
        "    self.__polegadas = polegadas\n",
        "\n",
        "  def volume(self):\n",
        "    return f\"O volume está em {self.volume}\"\n",
        "\n",
        "  class Radio:\n",
        "    def __init__(self,marca,peso,volume,frequencia):\n",
        "     self.__marca = marca\n",
        "     self.__peso = peso\n",
        "     self.__volume = volume\n",
        "     self.__frequencia = frequencia\n",
        "\n",
        "  def volume(self):\n",
        "    return f'O volume está em {self.volume}'\n",
        "\n",
        "tv = Televisão(\"LG\",2.5,60,52)\n",
        "radio = Radio(\"Sony\",1,75,105)\n",
        "\n",
        "print(tv.volume())\n",
        "print(Radio.volume())"
      ],
      "metadata": {
        "id": "1TDqXW09Wnmv"
      },
      "execution_count": null,
      "outputs": []
    }
  ]
}