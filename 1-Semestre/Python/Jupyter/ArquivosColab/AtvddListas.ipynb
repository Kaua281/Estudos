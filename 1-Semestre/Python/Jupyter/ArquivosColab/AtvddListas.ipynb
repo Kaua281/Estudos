{
  "nbformat": 4,
  "nbformat_minor": 0,
  "metadata": {
    "colab": {
      "provenance": []
    },
    "kernelspec": {
      "name": "python3",
      "display_name": "Python 3"
    },
    "language_info": {
      "name": "python"
    }
  },
  "cells": [
    {
      "cell_type": "code",
      "execution_count": null,
      "metadata": {
        "id": "kI7Y9OqtOpgA",
        "colab": {
          "base_uri": "https://localhost:8080/"
        },
        "outputId": "dd7ba731-7a98-4984-d1c7-1dfc65afaf46"
      },
      "outputs": [
        {
          "output_type": "stream",
          "name": "stdout",
          "text": [
            "Digite um número: 2312\n",
            "Digite o elemento da lista que você quer: 2\n",
            "2312\n"
          ]
        }
      ],
      "source": [
        ",0x = int(input(\"Digite um número: \"))\n",
        "y = int(input(\"Digite o elemento da lista que você quer: \"))\n",
        "list = [1, 2, x, \"kos\", True]\n",
        "print(list[y])"
      ]
    },
    {
      "cell_type": "code",
      "source": [
        "list = [\"Kauã Oliveira Seixas\", 0, 1.74, True]\n",
        "print(f'O nome é: {list[0]}')\n",
        "print(f\"Ele tem {list[1]} filhos\")\n",
        "print(f\"Ele tem {list[2]} de altura\")\n",
        "if list[3] == True:\n",
        " print(\"Ele usa instagram: sim\")\n",
        "else:\n",
        "  print(\"Ele usa instagram: não\")"
      ],
      "metadata": {
        "id": "xlN_t0inSHAb"
      },
      "execution_count": null,
      "outputs": []
    },
    {
      "cell_type": "code",
      "source": [
        "list = [\"Vinicius\", \"Thiago\", \"Kauã\"]\n",
        "print(list)\n",
        "x = input(\"Digite o que deseja adicionar a lista: \")\n",
        "list.append(x)\n",
        "print(list)"
      ],
      "metadata": {
        "colab": {
          "base_uri": "https://localhost:8080/"
        },
        "id": "FlIgI0jrkdZ_",
        "outputId": "7fb0a4d0-eb64-40c5-eb4b-98dbb73f7e71"
      },
      "execution_count": null,
      "outputs": [
        {
          "output_type": "stream",
          "name": "stdout",
          "text": [
            "['Vinicius', 'Thiago', 'Kauã']\n",
            "Digite o que deseja adicionar a lista: levi\n",
            "['Vinicius', 'Thiago', 'Kauã', 'levi']\n"
          ]
        }
      ]
    },
    {
      "cell_type": "code",
      "source": [
        "list = [\"Kauã\"]\n",
        "list.append(\"Levi\")\n",
        "print(list)\n",
        "x = input(\"Deseja adicionar mais nomes a lista [S|N]: \")\n",
        "while True:\n",
        "  y = input(\"Digite o nome que deseja adicionar a lista: \")\n",
        "  list.append(y)\n",
        "  x = input(\"Deseja adicionar mais nomes a lista [S|N]: \")\n",
        "  if x.upper() == \"N\":\n",
        "    break\n",
        "print(list)"
      ],
      "metadata": {
        "colab": {
          "base_uri": "https://localhost:8080/"
        },
        "id": "KnRvREq9mJtO",
        "outputId": "33844e4b-4486-4661-9c7e-5d39e2df29bd"
      },
      "execution_count": null,
      "outputs": [
        {
          "output_type": "stream",
          "name": "stdout",
          "text": [
            "['Kauã', 'Levi']\n",
            "Deseja adicionar mais nomes a lista [S|N]: s\n",
            "Digite o nome que deseja adicionar a lista: Vincius\n",
            "Deseja adicionar mais nomes a lista [S|N]: s\n",
            "Digite o nome que deseja adicionar a lista: Thiago\n",
            "Deseja adicionar mais nomes a lista [S|N]: s\n",
            "Digite o nome que deseja adicionar a lista: Herlon\n",
            "Deseja adicionar mais nomes a lista [S|N]: s\n",
            "Digite o nome que deseja adicionar a lista: Kos\n",
            "Deseja adicionar mais nomes a lista [S|N]: n\n",
            "['Kauã', 'Levi', 'Vincius', 'Thiago', 'Herlon', 'Kos']\n"
          ]
        }
      ]
    },
    {
      "cell_type": "code",
      "source": [
        "frutas = [\"Caju\", \"Laranja\", \"Banana\", \"Uva\"]\n",
        "frutas[-1] = \"Laranja\"\n",
        "frutas[-2] = \"Caju\"\n",
        "for fruta in frutas:\n",
        "  print(frutas)"
      ],
      "metadata": {
        "colab": {
          "base_uri": "https://localhost:8080/"
        },
        "id": "5qYXt1g5vDTv",
        "outputId": "2e907f42-18be-46b8-86dc-acdfeeefad68"
      },
      "execution_count": null,
      "outputs": [
        {
          "output_type": "stream",
          "name": "stdout",
          "text": [
            "['Caju', 'Laranja', 'Caju', 'Laranja']\n",
            "['Caju', 'Laranja', 'Caju', 'Laranja']\n",
            "['Caju', 'Laranja', 'Caju', 'Laranja']\n",
            "['Caju', 'Laranja', 'Caju', 'Laranja']\n"
          ]
        }
      ]
    },
    {
      "cell_type": "code",
      "source": [
        "import random\n",
        "ListaDeFrutas = [\"Maçã\", \"Banana\", \"Uva\", \"Laranja\", \"Abacaxi\"]\n",
        "random.shuffle(ListaDeFrutas)\n",
        "print(ListaDeFrutas)"
      ],
      "metadata": {
        "colab": {
          "base_uri": "https://localhost:8080/"
        },
        "id": "a9ZQa1OQRaBT",
        "outputId": "461ad855-9ee6-4e0c-a400-07b1b5414b1b"
      },
      "execution_count": null,
      "outputs": [
        {
          "output_type": "stream",
          "name": "stdout",
          "text": [
            "['Abacaxi', 'Banana', 'Uva', 'Laranja', 'Maçã']\n"
          ]
        }
      ]
    },
    {
      "cell_type": "code",
      "source": [
        "import random as r\n",
        "x = r.uniform(1, 100)\n",
        "print(x)"
      ],
      "metadata": {
        "colab": {
          "base_uri": "https://localhost:8080/"
        },
        "id": "lRbE9IMbUm7R",
        "outputId": "69712237-cbac-484b-d7f0-790bda81baf6"
      },
      "execution_count": null,
      "outputs": [
        {
          "output_type": "stream",
          "name": "stdout",
          "text": [
            "78.0821866328287\n"
          ]
        }
      ]
    },
    {
      "cell_type": "code",
      "source": [
        "import random\n",
        "lista = [\"maçã\", \"banana\", \"laranja\", \"uva\", \"abacaxi\"]\n",
        "x = random.choice(lista)\n",
        "print(x)"
      ],
      "metadata": {
        "colab": {
          "base_uri": "https://localhost:8080/"
        },
        "id": "0cAfikppPzjK",
        "outputId": "93215a7b-97a1-49c4-8630-712201b1b060"
      },
      "execution_count": null,
      "outputs": [
        {
          "output_type": "stream",
          "name": "stdout",
          "text": [
            "uva\n"
          ]
        }
      ]
    },
    {
      "cell_type": "code",
      "source": [
        "import random as random\n",
        "lista = [10, 50, 30 , 40, 25, 60, 5]\n",
        "r.shuffle(lista)\n",
        "print(\"Lista embaralhada\", lista)\n",
        "sorteado = r.choice(lista)\n",
        "print(\"elemento da lista sorteado:\", sorteado)"
      ],
      "metadata": {
        "colab": {
          "base_uri": "https://localhost:8080/"
        },
        "id": "cGWJjuEMbAiK",
        "outputId": "e9f0b41e-de37-427b-e996-4f3657270056"
      },
      "execution_count": null,
      "outputs": [
        {
          "output_type": "stream",
          "name": "stdout",
          "text": [
            "Lista embaralhada [25, 5, 60, 40, 50, 30, 10]\n",
            "elemento da lista sorteado: 5\n"
          ]
        }
      ]
    },
    {
      "cell_type": "code",
      "source": [
        "import random\n",
        "lista = [5 , 10, 20, 30, 40 ,50 , 60]\n",
        "x = random.randint(lista[0], lista[-1])\n",
        "y = random.choice(lista)\n",
        "print(x)\n",
        "print(y)"
      ],
      "metadata": {
        "colab": {
          "base_uri": "https://localhost:8080/"
        },
        "id": "qELTqK9XdSAV",
        "outputId": "d1e48681-f9ef-4f1a-b526-56f878b0e1df"
      },
      "execution_count": null,
      "outputs": [
        {
          "output_type": "stream",
          "name": "stdout",
          "text": [
            "38\n",
            "5\n"
          ]
        }
      ]
    },
    {
      "cell_type": "code",
      "source": [
        "import random\n",
        "lista = [\"Adriana Prado\", \"Bárbara Borges\", \"Camila Queiroz\", \"Danielle Winits\", \"Fernanda Paes Leme\", \"Helena Ranaldi\", \"Paolla de Oliveira\", \"Raquel Nunes\", \"Viola Davis\"]\n",
        "random.shuffle(lista)\n",
        "print(lista)\n",
        "sort = random.choice(lista)\n",
        "print(sort)"
      ],
      "metadata": {
        "colab": {
          "base_uri": "https://localhost:8080/"
        },
        "id": "4IQH5ewTpq45",
        "outputId": "d58dfaff-bb48-47c5-8f3c-90fe49154c4e"
      },
      "execution_count": null,
      "outputs": [
        {
          "output_type": "stream",
          "name": "stdout",
          "text": [
            "['Helena Ranaldi', 'Fernanda Paes Leme', 'Viola Davis', 'Adriana Prado', 'Camila Queiroz', 'Bárbara Borges', 'Paolla de Oliveira', 'Danielle Winits', 'Raquel Nunes']\n",
            "Adriana Prado\n"
          ]
        }
      ]
    },
    {
      "cell_type": "code",
      "source": [
        "lista = [1, 3, 12, 8, 2 ]\n",
        "lista.sort(reverse = False)\n",
        "print(lista)"
      ],
      "metadata": {
        "colab": {
          "base_uri": "https://localhost:8080/"
        },
        "id": "rw2D6igItZkJ",
        "outputId": "497867c4-2b88-4692-9694-3c145af98667"
      },
      "execution_count": null,
      "outputs": [
        {
          "output_type": "stream",
          "name": "stdout",
          "text": [
            "[1, 2, 3, 8, 12]\n"
          ]
        }
      ]
    },
    {
      "cell_type": "code",
      "source": [
        "import random\n",
        "lista = [\"Adriana Prado\", \"Bárbara Borges\", \"Camila Queiroz\", \"Danielle Winits\", \"Fernanda Paes Leme\", \"Helena Ranaldi\", \"Paolla de Oliveira\", \"Raquel Nunes\", \"Viola Davis\"]\n",
        "random.shuffle(lista)\n",
        "print(lista)\n",
        "lista.sort()\n",
        "print(lista)\n",
        "lista.sort(reverse = True)\n",
        "print(lista)"
      ],
      "metadata": {
        "colab": {
          "base_uri": "https://localhost:8080/"
        },
        "id": "SF2bAsMjyIzI",
        "outputId": "a03be0b7-cab1-4de3-eec0-68a918d7ffe9"
      },
      "execution_count": null,
      "outputs": [
        {
          "output_type": "stream",
          "name": "stdout",
          "text": [
            "['Fernanda Paes Leme', 'Camila Queiroz', 'Paolla de Oliveira', 'Bárbara Borges', 'Raquel Nunes', 'Danielle Winits', 'Helena Ranaldi', 'Adriana Prado', 'Viola Davis']\n",
            "['Adriana Prado', 'Bárbara Borges', 'Camila Queiroz', 'Danielle Winits', 'Fernanda Paes Leme', 'Helena Ranaldi', 'Paolla de Oliveira', 'Raquel Nunes', 'Viola Davis']\n",
            "['Viola Davis', 'Raquel Nunes', 'Paolla de Oliveira', 'Helena Ranaldi', 'Fernanda Paes Leme', 'Danielle Winits', 'Camila Queiroz', 'Bárbara Borges', 'Adriana Prado']\n"
          ]
        }
      ]
    },
    {
      "cell_type": "code",
      "source": [
        "lista = [1, 3, 12, 8, 2, 2]\n",
        "elem = len(lista)\n",
        "print(lista)\n",
        "print(elem)"
      ],
      "metadata": {
        "colab": {
          "base_uri": "https://localhost:8080/"
        },
        "id": "ENfLm14Y1QLQ",
        "outputId": "269ad950-7ec3-4a61-af36-21f4e5d2eedd"
      },
      "execution_count": null,
      "outputs": [
        {
          "output_type": "stream",
          "name": "stdout",
          "text": [
            "[1, 3, 12, 8, 2, 2]\n",
            "6\n"
          ]
        }
      ]
    },
    {
      "cell_type": "code",
      "source": [
        "n = [1 , 2 ,3]\n",
        "n.pop()\n",
        "print(n)"
      ],
      "metadata": {
        "colab": {
          "base_uri": "https://localhost:8080/"
        },
        "id": "cn7_h3_XWd0b",
        "outputId": "bb7dc9b6-a7d9-4a1a-a12b-46ef66978ad8"
      },
      "execution_count": null,
      "outputs": [
        {
          "output_type": "stream",
          "name": "stdout",
          "text": [
            "[1, 2]\n"
          ]
        }
      ]
    },
    {
      "cell_type": "code",
      "source": [
        "frutas = []\n",
        "while True:\n",
        "  print(\"\"\"Digite uma fruta para adicionar a lista\n",
        "ou digite FIM para parar o programa\"\"\")\n",
        "  x = input()\n",
        "  if x == 'FIM':\n",
        "    break\n",
        "  else:\n",
        "    frutas.append(x)\n",
        "print(\"Lista de Frutas\")\n",
        "for fruta in frutas:\n",
        "  print(fruta)"
      ],
      "metadata": {
        "colab": {
          "base_uri": "https://localhost:8080/"
        },
        "id": "NtjLv2yYaCK6",
        "outputId": "8ad4204d-61ef-401b-9e61-620195d8e669"
      },
      "execution_count": null,
      "outputs": [
        {
          "output_type": "stream",
          "name": "stdout",
          "text": [
            "Digite uma fruta para adicionar a lista\n",
            "ou digite FIM para parar o programa\n",
            "Maçã\n",
            "Digite uma fruta para adicionar a lista\n",
            "ou digite FIM para parar o programa\n",
            "Banana\n",
            "Digite uma fruta para adicionar a lista\n",
            "ou digite FIM para parar o programa\n",
            "Uva\n",
            "Digite uma fruta para adicionar a lista\n",
            "ou digite FIM para parar o programa\n",
            "FIM\n",
            "Lista de Frutas\n",
            "Maçã\n",
            "Banana\n",
            "Uva\n"
          ]
        }
      ]
    },
    {
      "cell_type": "code",
      "source": [
        "frutas = [\"Maçã\" , \"Banana\", \"Laranja\"]\n",
        "while True:\n",
        "  x = 0\n",
        "  print(frutas)\n",
        "  print(\"\"\"Digite 1 se deseja adicionar uma fruta na lista\n",
        "Digite 2 se deseja remover uma fruta da lista\n",
        "Digite 3 se deseja encerrar o programa\"\"\")\n",
        "  x = int(input(\"Qual ação deseja seguir: \"))\n",
        "  if x == 1:\n",
        "    y = frutas.append(input(\"Digite a fruta que você quer adicionar: \"))\n",
        "  elif x == 2:\n",
        "    y = frutas.remove(input(\"Digite exatamente qual fruta você quer remover: \"))\n",
        "  else:\n",
        "    break\n",
        "print(\"Lista atual\")\n",
        "for fruta in frutas:\n",
        "  print(fruta)"
      ],
      "metadata": {
        "id": "YCLw0tNHcN78",
        "colab": {
          "base_uri": "https://localhost:8080/"
        },
        "outputId": "3db42047-680b-42df-ec02-c97497e71cbe"
      },
      "execution_count": null,
      "outputs": [
        {
          "output_type": "stream",
          "name": "stdout",
          "text": [
            "['Maçã', 'Banana', 'Laranja']\n",
            "Digite 1 se deseja adicionar uma fruta na lista\n",
            "Digite 2 se deseja remover uma fruta da lista\n",
            "Digite 3 se deseja encerrar o programa\n",
            "Qual ação deseja seguir: 1\n",
            "Digite a fruta que você quer adicionar: Uva\n",
            "['Maçã', 'Banana', 'Laranja', 'Uva']\n",
            "Digite 1 se deseja adicionar uma fruta na lista\n",
            "Digite 2 se deseja remover uma fruta da lista\n",
            "Digite 3 se deseja encerrar o programa\n",
            "Qual ação deseja seguir: 2\n",
            "Digite exatamente qual fruta você quer remover: Maçã\n",
            "['Banana', 'Laranja', 'Uva']\n",
            "Digite 1 se deseja adicionar uma fruta na lista\n",
            "Digite 2 se deseja remover uma fruta da lista\n",
            "Digite 3 se deseja encerrar o programa\n",
            "Qual ação deseja seguir: 3\n",
            "Lista atual\n",
            "Banana\n",
            "Laranja\n",
            "Uva\n"
          ]
        }
      ]
    },
    {
      "cell_type": "code",
      "source": [
        "frutas = [\"Maçã\" , \"Banana\", \"Uva\"]\n",
        "print(frutas)\n",
        "x = input(\"Digite qual fruta deseja adicionar a lista: \")\n",
        "y = int(input(\"Digite a posição em que a fruta deve ser colocada na lista: \"))\n",
        "frutas.insert(y, x)\n",
        "print(frutas)"
      ],
      "metadata": {
        "colab": {
          "base_uri": "https://localhost:8080/"
        },
        "id": "0x6FS9PG0wv6",
        "outputId": "5520ddfa-df28-467e-94cd-50676ea10ad2"
      },
      "execution_count": null,
      "outputs": [
        {
          "output_type": "stream",
          "name": "stdout",
          "text": [
            "['Maçã', 'Banana', 'Uva']\n",
            "Digite qual fruta deseja adicionar a lista: Laranja\n",
            "Digite a posição em que a fruta deve ser colocada na lista: 1\n",
            "['Maçã', 'Laranja', 'Banana', 'Uva']\n"
          ]
        }
      ]
    },
    {
      "cell_type": "code",
      "source": [
        "Lista = [1 , 2, 3, 4, 5, 6, 7, 8]\n",
        "print(Lista[:5])"
      ],
      "metadata": {
        "colab": {
          "base_uri": "https://localhost:8080/"
        },
        "id": "tRwqeHJ4sdey",
        "outputId": "0d7d592e-90de-4d5f-d422-ec30982820b0"
      },
      "execution_count": null,
      "outputs": [
        {
          "output_type": "stream",
          "name": "stdout",
          "text": [
            "[1, 2, 3, 4, 5]\n"
          ]
        }
      ]
    },
    {
      "cell_type": "code",
      "source": [
        "x = (\"Kauã O. Seixas\")\n",
        "print(x[:7])"
      ],
      "metadata": {
        "colab": {
          "base_uri": "https://localhost:8080/"
        },
        "id": "4NTjHBLQviuv",
        "outputId": "085dc910-3c67-4ebd-9349-13377bfd90b4"
      },
      "execution_count": null,
      "outputs": [
        {
          "output_type": "stream",
          "name": "stdout",
          "text": [
            "Kauã O.\n"
          ]
        }
      ]
    },
    {
      "cell_type": "code",
      "source": [
        "compras = [\"Arroz\", \"Feijão\", \"Óleo\", \"Macarrão\", \"Detergente\", \"Tomate\", \"Cebola\"]\n",
        "compras.clear()\n",
        "print(compras)"
      ],
      "metadata": {
        "colab": {
          "base_uri": "https://localhost:8080/"
        },
        "id": "UZLRFEaIzlFW",
        "outputId": "cea23b6c-edfe-4ead-dc3f-9b26b98d0614"
      },
      "execution_count": null,
      "outputs": [
        {
          "output_type": "stream",
          "name": "stdout",
          "text": [
            "[]\n"
          ]
        }
      ]
    },
    {
      "cell_type": "code",
      "source": [
        "lista = [1 , 3 , 5, 6 ,4 , 2, 8]\n",
        "listaB = lista\n",
        "lista.remove(8)\n",
        "print(listaB)"
      ],
      "metadata": {
        "colab": {
          "base_uri": "https://localhost:8080/"
        },
        "id": "J1Ar77G0yfLC",
        "outputId": "b69e9485-23e9-445a-d5c8-d73f7547fadb"
      },
      "execution_count": null,
      "outputs": [
        {
          "output_type": "stream",
          "name": "stdout",
          "text": [
            "[1, 3, 5, 6, 4, 2]\n"
          ]
        }
      ]
    },
    {
      "cell_type": "code",
      "source": [
        "lista = [\"Adriana Prado\", \"Bárbara Borges\", \"Camila Queiroz\", \"Danielle Winits\", \"Fernanda Paes Leme\", \"Helena Ranaldi\", \"Paolla de Oliveira\", \"Raquel Nunes\", \"Viola Davis\"]\n",
        "B = list(lista)\n",
        "if lista == B:\n",
        "  lista.clear()\n",
        "  print(\"Lista original esvaziada\")\n",
        "else:\n",
        "  print(\"Cópia gerada não é igual a original\")\n",
        "print(B)"
      ],
      "metadata": {
        "colab": {
          "base_uri": "https://localhost:8080/"
        },
        "id": "VXXTNz4-DerP",
        "outputId": "c8abf046-6b39-4b6c-8fb3-1a63adb46e2e"
      },
      "execution_count": null,
      "outputs": [
        {
          "output_type": "stream",
          "name": "stdout",
          "text": [
            "Lista original esvaziada\n",
            "['Adriana Prado', 'Bárbara Borges', 'Camila Queiroz', 'Danielle Winits', 'Fernanda Paes Leme', 'Helena Ranaldi', 'Paolla de Oliveira', 'Raquel Nunes', 'Viola Davis']\n"
          ]
        }
      ]
    },
    {
      "cell_type": "code",
      "source": [
        "listaA = [3 , 5, 4 , 2, 8]\n",
        "listaB = [1 , 6 , 4 , 2, 8]\n",
        "listaC = []\n",
        "listaC.extend(listaA)\n",
        "listaC.append(listaB[1])\n",
        "print(listaC)"
      ],
      "metadata": {
        "colab": {
          "base_uri": "https://localhost:8080/"
        },
        "id": "WJ7FuXK4eQmE",
        "outputId": "f4fd5ef3-5bd7-4a87-d990-e327a24b9b48"
      },
      "execution_count": null,
      "outputs": [
        {
          "output_type": "stream",
          "name": "stdout",
          "text": [
            "[3, 5, 4, 2, 8, 6]\n"
          ]
        }
      ]
    },
    {
      "cell_type": "code",
      "source": [
        "linha = int(input(\"Digite as linhas da matriz: \" ))\n",
        "coluna = int(input(\"Digite as colunas da matriz: \"))\n",
        "matriz = []\n",
        "for i in range(linha):\n",
        "   linha = []\n",
        "   for j in range(coluna):\n",
        "    valor = input(f\"Digite o valor para a posição ({i} , {j}): \")\n",
        "    linha.append(valor)\n",
        "   matriz.append(linha)\n",
        "\n",
        "\n",
        "\n",
        "\n",
        "\n",
        "\n",
        "print(\"A minha resultante é: \")\n",
        "for i in range(n:\n",
        "  print(matriz[i])"
      ],
      "metadata": {
        "colab": {
          "base_uri": "https://localhost:8080/",
          "height": 426
        },
        "id": "1D2-36ix2HMs",
        "outputId": "d55efa8c-a177-4328-f800-8a8a46ceb44f"
      },
      "execution_count": null,
      "outputs": [
        {
          "output_type": "stream",
          "name": "stdout",
          "text": [
            "Digite as linhas da matriz: 3\n",
            "Digite as colunas da matriz: 3\n",
            "Digite o valor para a posição (0 , 0): 1\n",
            "Digite o valor para a posição (0 , 1): 2\n",
            "Digite o valor para a posição (0 , 2): 3\n",
            "Digite o valor para a posição (1 , 0): 4\n",
            "Digite o valor para a posição (1 , 1): 5\n",
            "Digite o valor para a posição (1 , 2): 6\n",
            "Digite o valor para a posição (2 , 0): 7\n",
            "Digite o valor para a posição (2 , 1): 8\n",
            "Digite o valor para a posição (2 , 2): 9\n",
            "A minha resultante é: \n"
          ]
        },
        {
          "output_type": "error",
          "ename": "NameError",
          "evalue": "ignored",
          "traceback": [
            "\u001b[0;31m---------------------------------------------------------------------------\u001b[0m",
            "\u001b[0;31mNameError\u001b[0m                                 Traceback (most recent call last)",
            "\u001b[0;32m<ipython-input-1-00a0f4a56a86>\u001b[0m in \u001b[0;36m<cell line: 17>\u001b[0;34m()\u001b[0m\n\u001b[1;32m     15\u001b[0m \u001b[0;34m\u001b[0m\u001b[0m\n\u001b[1;32m     16\u001b[0m \u001b[0mprint\u001b[0m\u001b[0;34m(\u001b[0m\u001b[0;34m\"A minha resultante é: \"\u001b[0m\u001b[0;34m)\u001b[0m\u001b[0;34m\u001b[0m\u001b[0;34m\u001b[0m\u001b[0m\n\u001b[0;32m---> 17\u001b[0;31m \u001b[0;32mfor\u001b[0m \u001b[0mi\u001b[0m \u001b[0;32min\u001b[0m \u001b[0mrange\u001b[0m\u001b[0;34m(\u001b[0m\u001b[0mn\u001b[0m\u001b[0;34m)\u001b[0m\u001b[0;34m:\u001b[0m\u001b[0;34m\u001b[0m\u001b[0;34m\u001b[0m\u001b[0m\n\u001b[0m\u001b[1;32m     18\u001b[0m   \u001b[0mprint\u001b[0m\u001b[0;34m(\u001b[0m\u001b[0mmatriz\u001b[0m\u001b[0;34m[\u001b[0m\u001b[0mi\u001b[0m\u001b[0;34m]\u001b[0m\u001b[0;34m)\u001b[0m\u001b[0;34m\u001b[0m\u001b[0;34m\u001b[0m\u001b[0m\n",
            "\u001b[0;31mNameError\u001b[0m: name 'n' is not defined"
          ]
        }
      ]
    },
    {
      "cell_type": "code",
      "source": [
        "for i in range(10):\n",
        "  print(i)"
      ],
      "metadata": {
        "id": "AlPeS57i88ph"
      },
      "execution_count": null,
      "outputs": []
    }
  ]
}