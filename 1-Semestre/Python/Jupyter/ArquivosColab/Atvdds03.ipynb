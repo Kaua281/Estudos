{
  "nbformat": 4,
  "nbformat_minor": 0,
  "metadata": {
    "colab": {
      "provenance": []
    },
    "kernelspec": {
      "name": "python3",
      "display_name": "Python 3"
    },
    "language_info": {
      "name": "python"
    }
  },
  "cells": [
    {
      "cell_type": "code",
      "execution_count": null,
      "metadata": {
        "id": "TbcK4vWNEt6L"
      },
      "outputs": [],
      "source": [
        "while opcao != 3:\n",
        " print(\"Escolha uma opção: \")\n",
        " print(\"1 - Adicionar um novo item\")\n",
        " print(\"2 - Ver todos os itens\")\n",
        " print(\"3 - Sair\")\n",
        " opcao = int(input(\"Opção escolhida: \"))\n",
        " if opcao == 1:\n",
        "   print(\"O Item foi adicionado a lista \\n   \" )\n",
        " elif opcao == 2:\n",
        "   print(\"Lista : 3 / 2 / 2 /3 / 4 / 4 / 4 \\n \")\n",
        " elif opcao == 3:\n",
        "   print(\"Encerrando o programa...\")\n",
        " else:\n",
        "   print(\"Opção inválida.\")"
      ]
    },
    {
      "cell_type": "code",
      "source": [
        "while opcao != 3:\n",
        " print(\"Escolha uma opção: \")\n",
        " print(\"1 - Adicionar um novo item\")\n",
        " print(\"2 - Ver todos os itens\")\n",
        " print(\"3 - Sair\")\n",
        " opcao = int(input(\"Opção escolhida: \"))\n",
        " if opcao == 1:\n",
        "   print(\"O Item foi adicionado a lista \\n   \" )\n",
        " elif opcao == 2:\n",
        "   print(\"Lista : 3 / 2 / 2 /3 / 4 / 4 / 4 \\n \")\n",
        " elif opcao == 3:\n",
        "   print(\"Encerrando o programa...\")\n",
        " else:\n",
        "   print(\"Opção inválida.\")\n"
      ],
      "metadata": {
        "id": "RZWQ3fsRO7Dw"
      },
      "execution_count": null,
      "outputs": []
    }
  ]
}