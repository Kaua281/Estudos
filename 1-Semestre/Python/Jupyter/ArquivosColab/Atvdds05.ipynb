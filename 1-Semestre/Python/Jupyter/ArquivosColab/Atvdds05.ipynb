{
  "nbformat": 4,
  "nbformat_minor": 0,
  "metadata": {
    "colab": {
      "provenance": []
    },
    "kernelspec": {
      "name": "python3",
      "display_name": "Python 3"
    },
    "language_info": {
      "name": "python"
    }
  },
  "cells": [
    {
      "cell_type": "code",
      "execution_count": null,
      "metadata": {
        "colab": {
          "base_uri": "https://localhost:8080/"
        },
        "id": "5qZMXOdRQQJH",
        "outputId": "987e9098-cca2-406f-eb8d-2b080bbbfff5"
      },
      "outputs": [
        {
          "output_type": "stream",
          "name": "stdout",
          "text": [
            "Digite um número A: 1\n",
            "Digite um número B: 2\n",
            "Digite um número C: 5\n",
            "1 + 2 é menor que 5\n"
          ]
        }
      ],
      "source": [
        "A = int(input(\"Digite um número A: \"))\n",
        "B = int(input(\"Digite um número B: \"))\n",
        "C = int(input(\"Digite um número C: \"))\n",
        "if A + B < C:\n",
        "  print(f\"{A} + {B} é menor que {C}\")\n",
        "elif A + B == C:\n",
        "  print(f\"{A} + {B} é igual a {C}\")\n",
        "else:\n",
        "  print(f\"{A} + {B} é maior que {C}\")"
      ]
    },
    {
      "cell_type": "code",
      "source": [],
      "metadata": {
        "id": "eD9xaiQG-Zf7"
      },
      "execution_count": null,
      "outputs": []
    },
    {
      "cell_type": "code",
      "source": [
        "nome = input(\"Digite o seu nome: \")\n",
        "sexo = input(\"Digite seu gênero [f|m]: \")\n",
        "ec = input(\"Digite seu estado civil [c|s]: \")\n",
        "if sexo == \"f\" and ec == \"c\":\n",
        "  adc = int(input(\"Digite a quantos anos está casada: \"))\n",
        "else:\n",
        "  print(\"Fim do programa\")"
      ],
      "metadata": {
        "colab": {
          "base_uri": "https://localhost:8080/"
        },
        "id": "7465pO2zTvBO",
        "outputId": "bebf78bd-2ed5-4548-bbad-9221b5eda060"
      },
      "execution_count": null,
      "outputs": [
        {
          "name": "stdout",
          "output_type": "stream",
          "text": [
            "Digite o seu nome: Yua\n",
            "Digite seu gênero [f|m]: f\n",
            "Digite seu estado civil [c|s]: c\n",
            "Digite a quantos anos está casada: 6\n"
          ]
        }
      ]
    },
    {
      "cell_type": "code",
      "source": [
        "A = int(input(\"Digite um número A: \"))\n",
        "B = int(input(\"Digite um número B: \"))\n",
        "if A == B:\n",
        "  C = A + B\n",
        "  print(f\"A somma de {A} + {B} = {C}\")\n",
        "else:\n",
        "  C = A*B\n",
        "  print(f\"A multiplição de {A} * {B} = {C}\")"
      ],
      "metadata": {
        "colab": {
          "base_uri": "https://localhost:8080/"
        },
        "id": "Zdp1mMJyX3S_",
        "outputId": "3b30df4a-e052-4740-ead3-5dabfcdda130"
      },
      "execution_count": null,
      "outputs": [
        {
          "output_type": "stream",
          "name": "stdout",
          "text": [
            "Digite um número A: 3\n",
            "Digite um número B: 4\n",
            "A multiplição de 3 * 4 = 12\n"
          ]
        }
      ]
    },
    {
      "cell_type": "code",
      "source": [
        "A = int(input(\"Digite um número A: \"))\n",
        "B = int(input(\"Digite um número B: \"))\n",
        "C = int(input(\"Digite um número C: \"))\n",
        "if B % A == 0 or C % A == 0:\n",
        "  print(f\"{B} e(ou) {C} são multiplos de {A} \")\n",
        "else:\n",
        "  print(\"Nenhum dos valores é multiplo de A\")\n",
        "if A % B == 0 or C % B == 0:\n",
        "  print(f\"{A} e(ou) {C} são multiplos de {B}\")\n",
        "else:\n",
        "  print(\"Nenhum dos valores é multiplo de B\")\n",
        "if A % C == 0 or B % C == 0:\n",
        "  print(f\"{A} e(ou) {B} são multiplos de {C}\")\n",
        "else:\n",
        "  print(\"Nenhum dos valores é multiplo C\")"
      ],
      "metadata": {
        "colab": {
          "base_uri": "https://localhost:8080/"
        },
        "id": "Ar_7iQ3mZb6H",
        "outputId": "7c194dd5-ff2d-4c85-d6c0-118365707aa7"
      },
      "execution_count": null,
      "outputs": [
        {
          "output_type": "stream",
          "name": "stdout",
          "text": [
            "Digite um número A: 3\n",
            "Digite um número B: 6\n",
            "Digite um número C: 12\n",
            "6 e(ou) 12 são multiplos de 3 \n",
            "3 e(ou) 12 são multiplos de 6\n",
            "Nenhum dos valores é multiplo C\n"
          ]
        }
      ]
    },
    {
      "cell_type": "code",
      "source": [
        "A = int(input(\"Digite um número A: \"))\n",
        "B = int(input(\"Digite um número B: \"))\n",
        "ope = input(\"Digite a operação que será feita [+|-|*|/]: \")\n",
        "if ope == \"+\":\n",
        " print(f\"{A} + {B} = {A+B}\")\n",
        "elif ope == \"-\":\n",
        "  print(f\"{A} - {B} = {A-B}\")\n",
        "elif ope == \"*\":\n",
        "  print(f\"{A} * {B} = {A*B}\")\n",
        "elif ope == '/':\n",
        "  print(f\"{A}/{B} = {A/B}\")\n",
        "else:\n",
        "  print(\"Erro\")"
      ],
      "metadata": {
        "colab": {
          "base_uri": "https://localhost:8080/"
        },
        "id": "t_E6CDgyd6Z0",
        "outputId": "f98ab247-f7df-4913-df0e-ff3aea31ce80"
      },
      "execution_count": null,
      "outputs": [
        {
          "output_type": "stream",
          "name": "stdout",
          "text": [
            "Digite um número A: 5\n",
            "Digite um número B: 5\n",
            "Digite a operação que será feita [+|-|*|/]: *\n",
            "5 * 5 = 25\n"
          ]
        }
      ]
    },
    {
      "cell_type": "code",
      "source": [
        "A = int(input(\"Digite a primeira nota: \"))\n",
        "B = int(input(\"Digite a segunda nota: \"))\n",
        "C = (A + B)/2\n",
        "print(f\"Sua média foi {C}\")\n",
        "if C >= 5:\n",
        "  print(\"Parabéns, você está aprovado\")\n",
        "else:\n",
        "  print(\"Você está reprovado\")"
      ],
      "metadata": {
        "colab": {
          "base_uri": "https://localhost:8080/"
        },
        "id": "CPlK-S8xgtFU",
        "outputId": "1a2b83d5-9c6a-4a6d-9800-1620f1a37c91"
      },
      "execution_count": null,
      "outputs": [
        {
          "output_type": "stream",
          "name": "stdout",
          "text": [
            "Digite a primeira nota: 6\n",
            "Digite a segunda nota: 6\n",
            "Sua média foi 6.0\n",
            "Parabéns, você está aprovado\n"
          ]
        }
      ]
    },
    {
      "cell_type": "code",
      "source": [
        "fact = 1\n",
        "x = int(input(\"Digite um número para descobrirmos o seu fatorial: \"))\n",
        "for i in range(x, 0, -1):\n",
        " print(i, end = ' ')\n",
        " fact *= i\n",
        " if i > 1:\n",
        "  print(\"x \", end=\"\")\n",
        " else:\n",
        "  print(f\"= {fact}\\n\", end=\"\")\n",
        "print(f\"O fatorial de {x}! = {fact}\")"
      ],
      "metadata": {
        "colab": {
          "base_uri": "https://localhost:8080/"
        },
        "id": "kABn75sWjvY8",
        "outputId": "1547c5d0-c4b9-41f4-92fc-f67ef6111725"
      },
      "execution_count": null,
      "outputs": [
        {
          "output_type": "stream",
          "name": "stdout",
          "text": [
            "Digite um número para descobrirmos o seu fatorial: 5\n",
            "5 x 4 x 3 x 2 x 1 = 120\n",
            "O fatorial de 5! = 120\n"
          ]
        }
      ]
    },
    {
      "cell_type": "code",
      "source": [
        "#Desenvolver um algoritmo que efetue a soma de todos os números ímpares que são múltiplos\n",
        "#de três e que se encontram no conjunto dos números de 1 até 500.\n",
        "sum = 0\n",
        "for i in range(501):\n",
        "  if i%3 == 0 and i%2 != 0:\n",
        "    sum += i\n",
        "print(f\"A Soma de de todos os números ímpares que são múltiplos de três de 1 a 500 é igual a {sum}\")"
      ],
      "metadata": {
        "colab": {
          "base_uri": "https://localhost:8080/"
        },
        "id": "a9fNrJSWiR6H",
        "outputId": "fdf98c52-056b-47b6-b09a-d3e27112b379"
      },
      "execution_count": null,
      "outputs": [
        {
          "output_type": "stream",
          "name": "stdout",
          "text": [
            "A Soma de de todos os números ímpares que são múltiplos de três de 1 a 500 é igual a 20667\n"
          ]
        }
      ]
    },
    {
      "cell_type": "code",
      "source": [
        "#3.\tEscreva um algoritmo que leia um valor inicial A e uma razão R e imprima uma sequência em P.A. contendo 10 valores.\n",
        "A = int(input(\"Digite o valor inicial da progressão aritmética: \"))\n",
        "R = int(input(\"Digite a razão da P.A: \"))\n",
        "cont = 0\n",
        "while cont < 10:\n",
        "  termo = A + cont*R\n",
        "  print(termo)\n",
        "  cont +=1"
      ],
      "metadata": {
        "colab": {
          "base_uri": "https://localhost:8080/"
        },
        "id": "bjdxV7cXkRgH",
        "outputId": "a0736ce2-d90b-4cea-8cb7-9ad858146415"
      },
      "execution_count": null,
      "outputs": [
        {
          "output_type": "stream",
          "name": "stdout",
          "text": [
            "Digite o valor inicial da progressão aritmética: 5\n",
            "Digite a razão da P.A: 4\n",
            "5\n",
            "9\n",
            "13\n",
            "17\n",
            "21\n",
            "25\n",
            "29\n",
            "33\n",
            "37\n",
            "41\n"
          ]
        }
      ]
    },
    {
      "cell_type": "code",
      "source": [
        "A = int(input(\"Digite o valor inicial da progressão aritmética: \"))\n",
        "R = int(input(\"Digite a razão da P.A: \"))\n",
        "N = int(input(\"Digite quantos elemetos serão informados: \"))\n",
        "if N < 0:\n",
        "  print(f\"Não é possível utilizar uma quantidade de elementos negativa, o programa transformará o valor negativo {N} em positivo {N*(-1)}\")\n",
        "  N = N*(-1)\n",
        "cont = 0\n",
        "while cont < N or cont > N:\n",
        "  termo = A + cont*R\n",
        "  print(termo)\n",
        "  cont +=1"
      ],
      "metadata": {
        "colab": {
          "base_uri": "https://localhost:8080/"
        },
        "id": "5KbW-6l8rIVq",
        "outputId": "42f2081c-e3f3-4213-c8dd-2ee83e105ef2"
      },
      "execution_count": null,
      "outputs": [
        {
          "output_type": "stream",
          "name": "stdout",
          "text": [
            "Digite o valor inicial da progressão aritmética: 7\n",
            "Digite a razão da P.A: 3\n",
            "Digite quantos elemetos serão informados: 20\n",
            "7\n",
            "10\n",
            "13\n",
            "16\n",
            "19\n",
            "22\n",
            "25\n",
            "28\n",
            "31\n",
            "34\n",
            "37\n",
            "40\n",
            "43\n",
            "46\n",
            "49\n",
            "52\n",
            "55\n",
            "58\n",
            "61\n",
            "64\n"
          ]
        }
      ]
    },
    {
      "cell_type": "code",
      "source": [
        "v1 = input(\"Digite um número: \")\n",
        "v2 = input(\"Digite outro número: \")\n",
        "v3 = v1+v2\n",
        "print(v3)"
      ],
      "metadata": {
        "colab": {
          "base_uri": "https://localhost:8080/"
        },
        "id": "2iwHIrq2tSsH",
        "outputId": "6508380b-591f-427d-9c79-c8deccf77bc9"
      },
      "execution_count": null,
      "outputs": [
        {
          "output_type": "stream",
          "name": "stdout",
          "text": [
            "Digite um número: 2\n",
            "Digite outro número: 2\n",
            "22\n"
          ]
        }
      ]
    },
    {
      "cell_type": "code",
      "source": [
        "cont = 0\n",
        "while cont == 0:\n",
        " A = float(input(\"Digite um número A: \"))\n",
        " B = float(input(\"Digite um número B: \"))\n",
        " ope = input(\"Digite a operação que será feita [+|-|*|/]: \")\n",
        " if ope == \"+\":\n",
        "  X = A+B\n",
        "  print(f\"{A} + {B} = {X}\")\n",
        " elif ope == \"-\":\n",
        "   X = A-B\n",
        "   print(f\"{A} - {B} = {X}\")\n",
        " elif ope == \"*\":\n",
        "   X = A*B\n",
        "   print(f\"{A} * {B} = {X}\")\n",
        " elif ope == '/':\n",
        "  X = A/B\n",
        "  print(f\"{A}/{B} = {X}\")\n",
        " acao = input(f\"Deseja continuar calculando com o valor encontrado {X} [s|n]? \")\n",
        " if acao == \"s\":\n",
        "   cont2 = 0\n",
        "   while cont2 == 0:\n",
        "     Y = X\n",
        "     print(f\"{X} será o número A\")\n",
        "     B = float(input(\"Digite um número B: \"))\n",
        "     ope = input(\"Digite a operação que será feita [+|-|*|/]: \")\n",
        "     if ope == \"+\":\n",
        "      X = X+B\n",
        "      print(f\"{Y} + {B} = {X}\")\n",
        "     elif ope == \"-\":\n",
        "      X = X-B\n",
        "      print(f\"{Y} - {B} = {X}\")\n",
        "     elif ope == \"*\":\n",
        "      X = X*B\n",
        "      print(f\"{Y} * {B} = {X}\")\n",
        "     elif ope == '/':\n",
        "      X = X/B\n",
        "      print(f\"{Y}/{B} = {X}\")\n",
        "     acao = input(f\"Deseja continuar calculando com o valor encontrado {X} [s|n]? \")\n",
        "     if acao == \"n\":\n",
        "       cont +=1\n",
        "       break\n",
        " else:\n",
        "    break\n",
        "    print(\"Fim do Programa\")\n",
        "print(\"Fim do Programa\")"
      ],
      "metadata": {
        "id": "mlK2YwqQwJQ7"
      },
      "execution_count": null,
      "outputs": []
    },
    {
      "cell_type": "code",
      "source": [
        "X = 0\n",
        "cont = 0\n",
        "while cont != 4:\n",
        "  X += int(input(\"Digite um número: \"))\n",
        "  cont += 1\n",
        "print(f\"A soma dos números digitados é igual a {X}\")"
      ],
      "metadata": {
        "id": "cZQL-vMN460Z",
        "colab": {
          "base_uri": "https://localhost:8080/"
        },
        "outputId": "15335719-361f-4eca-e925-e8f18b54919a"
      },
      "execution_count": null,
      "outputs": [
        {
          "output_type": "stream",
          "name": "stdout",
          "text": [
            "Digite um número: 2\n",
            "Digite um número: 2\n",
            "Digite um número: 3\n",
            "Digite um número: 3\n",
            "A soma dos números digitados é igual a 10\n"
          ]
        }
      ]
    },
    {
      "cell_type": "code",
      "source": [
        "Y = 0\n",
        "cont = 0\n",
        "while cont == 0:\n",
        "  X = int(input(\"Digite um número: \"))\n",
        "  Y += X\n",
        "  if X == 0:\n",
        "    break\n",
        "print(f\"A soma dos números digital é igual a {Y}\")"
      ],
      "metadata": {
        "colab": {
          "base_uri": "https://localhost:8080/"
        },
        "id": "1z7H05RT68Ve",
        "outputId": "13cc32a2-c239-40cb-fa2a-89c5eee9e7c2"
      },
      "execution_count": null,
      "outputs": [
        {
          "output_type": "stream",
          "name": "stdout",
          "text": [
            "Digite um número: 2\n",
            "Digite um número: 3\n",
            "Digite um número: 4\n",
            "Digite um número: 0\n",
            "A soma dos números digital é igual a 9\n"
          ]
        }
      ]
    },
    {
      "cell_type": "code",
      "source": [
        "nen= 0\n",
        "while nen != 3:\n",
        "  v1= int(input(\"Digite o primeiro elementos: \"))\n",
        "  v2= int(input(\"Digite a razão: \"))\n",
        "  v3= int(input(\"Digite os primeiros elementos da PA: \"))\n",
        "  if v3 < 0:\n",
        "    print(f\"O valor negativo {v3} ira virar o valor positivo {v3*(-1)}\")\n",
        "    v3= v3*(-1)\n",
        "  nen +=1"
      ],
      "metadata": {
        "id": "bUM8pKnThtdp"
      },
      "execution_count": null,
      "outputs": []
    }
  ]
}