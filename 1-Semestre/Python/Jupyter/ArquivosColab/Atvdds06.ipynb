{
  "nbformat": 4,
  "nbformat_minor": 0,
  "metadata": {
    "colab": {
      "provenance": []
    },
    "kernelspec": {
      "name": "python3",
      "display_name": "Python 3"
    },
    "language_info": {
      "name": "python"
    }
  },
  "cells": [
    {
      "cell_type": "code",
      "execution_count": null,
      "metadata": {
        "colab": {
          "base_uri": "https://localhost:8080/"
        },
        "id": "eByDi8tSjTBy",
        "outputId": "e264a3f5-e279-422d-a24a-1c3adb9060da"
      },
      "outputs": [
        {
          "output_type": "stream",
          "name": "stdout",
          "text": [
            "Pilha: [1, 1, 3, 4, 5]\n",
            "Pilha: [1, 1, 3, 4, 5, 8]\n",
            "Pilha: [1, 1, 3, 4, 5]\n"
          ]
        }
      ],
      "source": [
        "pilha = [1 , 1 , 3 , 4 , 5 ]\n",
        "print(\"Pilha:\", pilha)\n",
        "pilha.append(8)\n",
        "print(\"Pilha:\", pilha)\n",
        "pilha.pop()\n",
        "print(\"Pilha:\", pilha)"
      ]
    },
    {
      "cell_type": "code",
      "source": [
        "pessoas = []\n",
        "while True:\n",
        " print(\"\"\"1 - Adicionar o nome de uma pessoa da lista\n",
        "2 - Remover o ultimo nome adicionado\n",
        "3 - Parar o programa e visualizar a lista\"\"\")\n",
        " x = int(input(\"Digite qual ação deseja tomar: \"))\n",
        " if x == 1:\n",
        "  y = input(\"Digite o nome que será adicionado a lista: \")\n",
        "  pessoas.append(y)\n",
        " elif x == 2:\n",
        "  print(\"Removendo o ultimo nome adicionado na lista......\")\n",
        "  pessoas.pop()\n",
        " elif x == 3:\n",
        "  break\n",
        "print(pessoas)"
      ],
      "metadata": {
        "colab": {
          "base_uri": "https://localhost:8080/"
        },
        "id": "bELLgJbnntUR",
        "outputId": "d7027578-717b-4941-afe2-22813b99dbc5"
      },
      "execution_count": null,
      "outputs": [
        {
          "output_type": "stream",
          "name": "stdout",
          "text": [
            "1 - Adicionar o nome de uma pessoa da lista \n",
            "2 - Remover o ultimo nome adicionado\n",
            "3 - Parar o programa e visualizar a lista\n",
            "Digite qual ação deseja tomar: 1\n",
            "Digite o nome que será adicionado a lista: 1\n",
            "1 - Adicionar o nome de uma pessoa da lista \n",
            "2 - Remover o ultimo nome adicionado\n",
            "3 - Parar o programa e visualizar a lista\n",
            "Digite qual ação deseja tomar: 1\n",
            "Digite o nome que será adicionado a lista: 2\n",
            "1 - Adicionar o nome de uma pessoa da lista \n",
            "2 - Remover o ultimo nome adicionado\n",
            "3 - Parar o programa e visualizar a lista\n",
            "Digite qual ação deseja tomar: 1\n",
            "Digite o nome que será adicionado a lista: 3\n",
            "1 - Adicionar o nome de uma pessoa da lista \n",
            "2 - Remover o ultimo nome adicionado\n",
            "3 - Parar o programa e visualizar a lista\n",
            "Digite qual ação deseja tomar: 2\n",
            "Removendo o ultimo nome adicionado na lista......\n",
            "1 - Adicionar o nome de uma pessoa da lista \n",
            "2 - Remover o ultimo nome adicionado\n",
            "3 - Parar o programa e visualizar a lista\n",
            "Digite qual ação deseja tomar: 3\n",
            "['1', '2']\n"
          ]
        }
      ]
    },
    {
      "cell_type": "code",
      "source": [
        "lista = []\n",
        "for i in range(10):\n",
        "  x = int(input(\"Digite um número: \"))\n",
        "  if x%2 == 0:\n",
        "    lista.append(x)\n",
        "  elif x%2 != 0:\n",
        "    if lista == []:\n",
        "      print(\"A lista está vazia\")\n",
        "    else:\n",
        "     lista.pop()\n",
        "print(lista)"
      ],
      "metadata": {
        "colab": {
          "base_uri": "https://localhost:8080/"
        },
        "id": "SZ84UtqdqbdQ",
        "outputId": "21f3a7c9-e84d-4d67-93b7-9318cd239f9d"
      },
      "execution_count": null,
      "outputs": [
        {
          "output_type": "stream",
          "name": "stdout",
          "text": [
            "Digite um número: 1\n",
            "A lista está vazia\n",
            "Digite um número: 2\n",
            "Digite um número: 4\n",
            "Digite um número: 3\n",
            "Digite um número: 5\n",
            "Digite um número: 8\n",
            "Digite um número: 10\n",
            "Digite um número: 11\n",
            "Digite um número: 22\n",
            "Digite um número: 14\n",
            "[8, 22, 14]\n"
          ]
        }
      ]
    }
  ]
}