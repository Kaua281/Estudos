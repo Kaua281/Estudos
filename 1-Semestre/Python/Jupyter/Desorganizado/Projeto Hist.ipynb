{
 "cells": [
  {
   "cell_type": "code",
   "execution_count": 1,
   "id": "82b7789a",
   "metadata": {},
   "outputs": [],
   "source": [
    "import pyautogui as pya\n",
    "import pyperclip as pyc\n",
    "import time "
   ]
  },
  {
   "cell_type": "code",
   "execution_count": 15,
   "id": "e4d4aa73",
   "metadata": {
    "scrolled": true
   },
   "outputs": [
    {
     "ename": "SyntaxError",
     "evalue": "invalid syntax (Temp/ipykernel_3496/4141435510.py, line 3)",
     "output_type": "error",
     "traceback": [
      "\u001b[1;36m  File \u001b[1;32m\"C:\\Users\\User\\AppData\\Local\\Temp/ipykernel_3496/4141435510.py\"\u001b[1;36m, line \u001b[1;32m3\u001b[0m\n\u001b[1;33m    if pya.locateOnScreen(Opera.PNG)\u001b[0m\n\u001b[1;37m                                    ^\u001b[0m\n\u001b[1;31mSyntaxError\u001b[0m\u001b[1;31m:\u001b[0m invalid syntax\n"
     ]
    }
   ],
   "source": [
    "# 0 - Abrir o Navegador\n",
    "\n",
    "time.sleep(1)\n",
    "Nav = 'Opera.png'\n",
    "location = pyautogui.locateCenterOnScreen(Nav, confidence = 0.7)\n",
    "pyautogui.moveTo(location)\n",
    "\n",
    "# 1 - abrir o gmail\n",
    "pya.hotkey('ctrl', 't')\n",
    "pyc.copy('https://mail.google.com/mail/u/1/#search/pfreitassilva2016%40bol.com.br')\n",
    "pya.hotkey('ctrl', 'v')\n",
    "pya.hotkey('enter')\n",
    "time.sleep(5)\n",
    "\n",
    "# 2 - acessar o email mais recente do professor\n",
    "pya.click(x=636, y=351)\n",
    "\n",
    "# 3 - baixar os arquivos\n",
    "time.sleep(3)\n",
    "pya.click(Download.PNG)\n",
    "\n",
    "time.sleep(5)\n",
    "pya.click(x=499, y=452)\n",
    "\n",
    "# 4 - enviar para o grupo do 3*ano no Whatsapp junto com uma mensagem \n",
    "\n",
    "time.sleep(10)\n",
    "pya.click\n",
    "\n",
    "# 5 - repetir o processo uma vez por semana"
   ]
  },
  {
   "cell_type": "code",
   "execution_count": 3,
   "id": "534a8092",
   "metadata": {
    "scrolled": false
   },
   "outputs": [
    {
     "data": {
      "text/plain": [
       "Point(x=802, y=631)"
      ]
     },
     "execution_count": 3,
     "metadata": {},
     "output_type": "execute_result"
    }
   ],
   "source": [
    "time.sleep(5)\n",
    "pya.position()"
   ]
  },
  {
   "cell_type": "code",
   "execution_count": 25,
   "id": "a22c9d2e",
   "metadata": {},
   "outputs": [
    {
     "ename": "TypeError",
     "evalue": "'NoneType' object is not iterable",
     "output_type": "error",
     "traceback": [
      "\u001b[1;31m---------------------------------------------------------------------------\u001b[0m",
      "\u001b[1;31mTypeError\u001b[0m                                 Traceback (most recent call last)",
      "\u001b[1;32m~\\AppData\\Local\\Temp/ipykernel_3496/1004545887.py\u001b[0m in \u001b[0;36m<module>\u001b[1;34m\u001b[0m\n\u001b[0;32m      1\u001b[0m \u001b[0mNav\u001b[0m \u001b[1;33m=\u001b[0m \u001b[0mpya\u001b[0m\u001b[1;33m.\u001b[0m\u001b[0mlocateOnScreen\u001b[0m\u001b[1;33m(\u001b[0m\u001b[1;34m'Opera.png'\u001b[0m\u001b[1;33m)\u001b[0m\u001b[1;33m\u001b[0m\u001b[1;33m\u001b[0m\u001b[0m\n\u001b[0;32m      2\u001b[0m \u001b[1;33m\u001b[0m\u001b[0m\n\u001b[1;32m----> 3\u001b[1;33m \u001b[0mNaVt\u001b[0m \u001b[1;33m=\u001b[0m \u001b[0mlist\u001b[0m\u001b[1;33m(\u001b[0m\u001b[0mpya\u001b[0m\u001b[1;33m.\u001b[0m\u001b[0mlocateOnScreen\u001b[0m\u001b[1;33m(\u001b[0m\u001b[1;34m'Opera.png'\u001b[0m\u001b[1;33m)\u001b[0m\u001b[1;33m)\u001b[0m\u001b[1;33m\u001b[0m\u001b[1;33m\u001b[0m\u001b[0m\n\u001b[0m",
      "\u001b[1;31mTypeError\u001b[0m: 'NoneType' object is not iterable"
     ]
    }
   ],
   "source": [
    "Nav = pya.locateOnScreen('Opera.png')\n",
    "print(Nav)\n",
    "print(Nav.left)\n",
    "print(Nav[0])\n",
    "print(Nav.top)\n",
    "print(Nav[1])\n",
    "NaVt = list(pya.locateOnScreen('Opera.png'))"
   ]
  },
  {
   "cell_type": "code",
   "execution_count": 33,
   "id": "fba0c2ef",
   "metadata": {},
   "outputs": [],
   "source": [
    "\n",
    "Nav = 'Opera.png'\n",
    "location = pya.locateCenterOnScreen(Nav)\n",
    "pya.moveTo(location)"
   ]
  },
  {
   "cell_type": "code",
   "execution_count": null,
   "id": "54fb002d",
   "metadata": {},
   "outputs": [],
   "source": []
  }
 ],
 "metadata": {
  "kernelspec": {
   "display_name": "Python 3 (ipykernel)",
   "language": "python",
   "name": "python3"
  },
  "language_info": {
   "codemirror_mode": {
    "name": "ipython",
    "version": 3
   },
   "file_extension": ".py",
   "mimetype": "text/x-python",
   "name": "python",
   "nbconvert_exporter": "python",
   "pygments_lexer": "ipython3",
   "version": "3.9.7"
  }
 },
 "nbformat": 4,
 "nbformat_minor": 5
}
