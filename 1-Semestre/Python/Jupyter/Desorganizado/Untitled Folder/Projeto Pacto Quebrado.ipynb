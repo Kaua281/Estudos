{
 "cells": [
  {
   "cell_type": "code",
   "execution_count": 58,
   "id": "f58e468f",
   "metadata": {
    "scrolled": true
   },
   "outputs": [
    {
     "ename": "KeyboardInterrupt",
     "evalue": "",
     "output_type": "error",
     "traceback": [
      "\u001b[1;31m---------------------------------------------------------------------------\u001b[0m",
      "\u001b[1;31mKeyboardInterrupt\u001b[0m                         Traceback (most recent call last)",
      "\u001b[1;32m~\\AppData\\Local\\Temp/ipykernel_13176/2032661552.py\u001b[0m in \u001b[0;36m<module>\u001b[1;34m\u001b[0m\n\u001b[0;32m     11\u001b[0m \u001b[1;31m# 1 - Abrir o site do Rewards\u001b[0m\u001b[1;33m\u001b[0m\u001b[1;33m\u001b[0m\u001b[0m\n\u001b[0;32m     12\u001b[0m \u001b[1;33m\u001b[0m\u001b[0m\n\u001b[1;32m---> 13\u001b[1;33m \u001b[0mtime\u001b[0m\u001b[1;33m.\u001b[0m\u001b[0msleep\u001b[0m\u001b[1;33m(\u001b[0m\u001b[1;36m5\u001b[0m\u001b[1;33m)\u001b[0m\u001b[1;33m\u001b[0m\u001b[1;33m\u001b[0m\u001b[0m\n\u001b[0m\u001b[0;32m     14\u001b[0m \u001b[0mpyc\u001b[0m\u001b[1;33m.\u001b[0m\u001b[0mcopy\u001b[0m\u001b[1;33m(\u001b[0m\u001b[1;34m'https://rewards.bing.com/pointsbreakdown'\u001b[0m\u001b[1;33m)\u001b[0m\u001b[1;33m\u001b[0m\u001b[1;33m\u001b[0m\u001b[0m\n\u001b[0;32m     15\u001b[0m \u001b[0mtime\u001b[0m\u001b[1;33m.\u001b[0m\u001b[0msleep\u001b[0m\u001b[1;33m(\u001b[0m\u001b[1;36m3\u001b[0m\u001b[1;33m)\u001b[0m\u001b[1;33m\u001b[0m\u001b[1;33m\u001b[0m\u001b[0m\n",
      "\u001b[1;31mKeyboardInterrupt\u001b[0m: "
     ]
    }
   ],
   "source": [
    "# 0 - Abrir o Navegador\n",
    "\n",
    "time.sleep(1)\n",
    "pya.click(x=22, y=746)\n",
    "pyc.copy('Opera')\n",
    "time.sleep(2)\n",
    "pya.hotkey('ctrl','v')\n",
    "time.sleep(1)\n",
    "pya.hotkey('enter')\n",
    "\n",
    "# 1 - Abrir o site do Rewards\n",
    "\n",
    "time.sleep(5)\n",
    "pyc.copy('https://rewards.bing.com/pointsbreakdown')\n",
    "time.sleep(3)\n",
    "pya.hotkey('ctrl', 'v')\n",
    "pya.hotkey('enter')\n",
    "\n",
    "# 2 - Pontos de pesquisas no pc\n",
    "\n",
    "time.sleep(10)\n",
    "pya.click(x=551, y=313)\n",
    "time.sleep(2)\n",
    "pya.click(x=239, y=140)\n",
    "\n",
    "contador = 0\n",
    "y = 10\n",
    "while contador < 2:\n",
    "    pyc.copy(f'{y}')\n",
    "    pya.hotkey('ctrl', 'v')\n",
    "    time.sleep(2)\n",
    "    pya.hotkey('enter')\n",
    "    time.sleep(3)\n",
    "    pya.click(x=239, y=140)\n",
    "    contador += 1\n",
    "    y += 1\n",
    "    \n",
    "pya.click(x=1347, y=6)\n",
    "time.sleep(1)\n",
    "pya.click(x=750, y=411)\n",
    "\n",
    "# 3 - Pontos do Edge\n",
    "\n",
    "time.sleep(1)\n",
    "pya.click(x=22, y=746)\n",
    "pyc.copy('Edge')\n",
    "time.sleep(2)\n",
    "pya.hotkey('ctrl','v')\n",
    "time.sleep(1)\n",
    "pya.hotkey('enter')\n",
    "time.sleep(10)\n",
    "pya.click(x=239, y=55)\n",
    "time.sleep(2)\n",
    "\n",
    "contador2 = 0\n",
    "x = 22\n",
    "while contador2 < 5:\n",
    "    pyc.copy(f'{x}')\n",
    "    pya.hotkey('ctrl', 'v')\n",
    "    time.sleep(2)\n",
    "    pya.hotkey('enter')\n",
    "    time.sleep(3)\n",
    "    pya.click(x=210, y=118)\n",
    "    contador2 += 1\n",
    "    x += 1\n",
    "    \n",
    "time.sleep(1)\n",
    "pya.click(x=1347, y=6)\n",
    "\n",
    "# 4 - tirar print da pontuação e mandar no whatsapp pessoal\n",
    "\n",
    "time.sleep(1)\n",
    "pya.click(x=22, y=746)\n",
    "pyc.copy('Opera')\n",
    "time.sleep(2)\n",
    "pya.hotkey('ctrl','v')\n",
    "time.sleep(1)\n",
    "pya.hotkey('enter')\n",
    "\n",
    "time.sleep(5)\n",
    "pyc.copy('https://rewards.bing.com/pointsbreakdown')\n",
    "time.sleep(3)\n",
    "pya.hotkey('fn', 'prtsc')\n",
    "time.sleep(1)\n",
    "pya.click(x=20, y=286)\n",
    "time.sleep(2)\n",
    "pya.click(x=241, y=164)\n",
    "time.sleep(5)\n",
    "pya.hotkey('ctrl','v')\n",
    "time.sleep(2)\n",
    "pya.hotkey('enter')"
   ]
  },
  {
   "cell_type": "code",
   "execution_count": 61,
   "id": "064f4ea8",
   "metadata": {
    "scrolled": true
   },
   "outputs": [
    {
     "data": {
      "text/plain": [
       "Point(x=241, y=164)"
      ]
     },
     "execution_count": 61,
     "metadata": {},
     "output_type": "execute_result"
    }
   ],
   "source": [
    "time.sleep(5)\n",
    "pya.position()"
   ]
  },
  {
   "cell_type": "code",
   "execution_count": null,
   "id": "8d6ca6da",
   "metadata": {},
   "outputs": [],
   "source": []
  }
 ],
 "metadata": {
  "kernelspec": {
   "display_name": "Python 3 (ipykernel)",
   "language": "python",
   "name": "python3"
  },
  "language_info": {
   "codemirror_mode": {
    "name": "ipython",
    "version": 3
   },
   "file_extension": ".py",
   "mimetype": "text/x-python",
   "name": "python",
   "nbconvert_exporter": "python",
   "pygments_lexer": "ipython3",
   "version": "3.9.7"
  }
 },
 "nbformat": 4,
 "nbformat_minor": 5
}
