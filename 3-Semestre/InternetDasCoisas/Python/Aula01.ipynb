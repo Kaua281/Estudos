{
 "cells": [
  {
   "cell_type": "markdown",
   "metadata": {},
   "source": [
    ".append() - adiciona um valor a ultima posição\n",
    ".pop() - elimina um valor do vetor\n",
    ".remove() - remove pelo valor\n",
    ".sort() - ordena o vetor de forma progressiva\n",
    ".reverse() - inverte o vetor de forma regressiva\n",
    ".max() - mostra o maior valor de um vetor\n",
    ".min() - mostra o menor valor de um vetor\n",
    ".sum() - soma todos os valores de um vetor\n",
    ".len() - indica a quantidade de itens de um vetor\n",
    ".count() - conta a quantidade de ocorrencias de um valor"
   ]
  },
  {
   "cell_type": "code",
   "execution_count": 2,
   "metadata": {},
   "outputs": [
    {
     "name": "stdout",
     "output_type": "stream",
     "text": [
      "O número é par\n"
     ]
    }
   ],
   "source": [
    "x = int(input(\"Digite um número: \"))\n",
    "if x%2==0:\n",
    "    print(\"O número é par\")\n",
    "else:\n",
    "    print(\"O número é impar\")"
   ]
  },
  {
   "cell_type": "code",
   "execution_count": 37,
   "metadata": {},
   "outputs": [
    {
     "name": "stdout",
     "output_type": "stream",
     "text": [
      "4.5\n"
     ]
    }
   ],
   "source": [
    "z = [0, 2, 1, 3, 5, 4, 6, 9, 7, 8]\n",
    "print(sum(z)/len(z))"
   ]
  },
  {
   "cell_type": "code",
   "execution_count": 53,
   "metadata": {},
   "outputs": [],
   "source": [
    "def separarParesImpares(z): \n",
    "    q = []\n",
    "    w = []\n",
    "    for i in z:\n",
    "        if i == 0:\n",
    "            continue\n",
    "        elif i<0:   \n",
    "            q.append(i)\n",
    "        else:\n",
    "            w.append(i)\n",
    "\n",
    "    print(f\"A quantidade de números negativos é {len(q)}\")\n",
    "    print(q)\n",
    "    print(f\"A quantidade de números positivos é {len(w)}\")\n",
    "    print(w)"
   ]
  },
  {
   "cell_type": "code",
   "execution_count": 54,
   "metadata": {},
   "outputs": [
    {
     "name": "stdout",
     "output_type": "stream",
     "text": [
      "A quantidade de números negativos é 3\n",
      "[-3, -2, -9]\n",
      "A quantidade de números positivos é 7\n",
      "[5, 10, 8, 15, 7, 4, 6]\n"
     ]
    }
   ],
   "source": [
    "lista = [5, -3, 10, 8, -2, 15, 7, -9, 4, 6]\n",
    "\n",
    "separarParesImpares(lista)"
   ]
  },
  {
   "cell_type": "code",
   "execution_count": 71,
   "metadata": {},
   "outputs": [
    {
     "name": "stdout",
     "output_type": "stream",
     "text": [
      "3 * 1 = 3\n",
      "3 * 2 = 6\n",
      "3 * 3 = 9\n",
      "3 * 4 = 12\n",
      "3 * 5 = 15\n",
      "3 * 6 = 18\n",
      "3 * 7 = 21\n",
      "3 * 8 = 24\n",
      "3 * 9 = 27\n",
      "3 * 10 = 30\n"
     ]
    }
   ],
   "source": [
    "x = int(input(\"Digite um número: \"))\n",
    "y = input(\"Digite a operação: \")\n",
    "if y == \"+\":\n",
    "    for i in range(1, 11):\n",
    "        print(f\"{x} + {i} = {x+i}\")\n",
    "elif y == \"-\":\n",
    "    for i in range(1, 11):\n",
    "        print(f\"{x} - {i} = {x-i}\")\n",
    "elif y == \"*\":\n",
    "    for i in range(1, 11,1):\n",
    "        print(f\"{x} * {i} = {x*i}\")\n",
    "elif y == \"/\":\n",
    "    for i in range(1, 11):\n",
    "        print(f\"{x} / {i} = {x/i}\")\n",
    "else:\n",
    "    print(\"Operação incorreta\")\n",
    "\n"
   ]
  },
  {
   "cell_type": "code",
   "execution_count": 1,
   "metadata": {},
   "outputs": [
    {
     "name": "stdout",
     "output_type": "stream",
     "text": [
      "2 + 1 = 3\n",
      "2 + 2 = 4\n",
      "2 + 3 = 5\n",
      "2 + 4 = 6\n",
      "2 + 5 = 7\n",
      "2 + 6 = 8\n",
      "2 + 7 = 9\n",
      "2 + 8 = 10\n",
      "2 + 9 = 11\n",
      "2 + 10 = 12\n"
     ]
    }
   ],
   "source": [
    "x = int(input(\"Digite um número: \"))\n",
    "y = input(\"Digite a operação: \")\n",
    "\n",
    "for i in range(1, 11,1):\n",
    "    if y == \"+\":\n",
    "            print(f\"{x} + {i} = {x+i}\")\n",
    "    elif y == \"-\":\n",
    "            print(f\"{x} - {i} = {x-i}\")\n",
    "    elif y == \"*\":\n",
    "            print(f\"{x} * {i} = {x*i}\")\n",
    "    elif y == \"/\":\n",
    "\n",
    "            print(f\"{x} / {i} = {x/i}\")\n",
    "    else:\n",
    "        print(\"Operação incorreta\")\n"
   ]
  }
 ],
 "metadata": {
  "kernelspec": {
   "display_name": "Python 3",
   "language": "python",
   "name": "python3"
  },
  "language_info": {
   "codemirror_mode": {
    "name": "ipython",
    "version": 3
   },
   "file_extension": ".py",
   "mimetype": "text/x-python",
   "name": "python",
   "nbconvert_exporter": "python",
   "pygments_lexer": "ipython3",
   "version": "3.11.8"
  }
 },
 "nbformat": 4,
 "nbformat_minor": 2
}
