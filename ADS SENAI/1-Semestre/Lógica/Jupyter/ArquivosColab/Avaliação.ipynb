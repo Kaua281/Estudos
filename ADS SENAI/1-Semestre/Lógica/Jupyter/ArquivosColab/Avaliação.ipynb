{
  "cells": [
    {
      "cell_type": "markdown",
      "metadata": {
        "id": "7Rv9qX-5sCrN"
      },
      "source": [
        "Crie um programa que permita ao usuário adicionar, listar e remover elementos de uma lista. O\n",
        "programa deve exibir um menu de opções com essas funcionalidades. O programa deve solicitar ao\n",
        "usuário as informações necessárias para executar as ações escolhidas e exibir mensagens de sucesso\n",
        "ou erro quando necessário. (6,0)"
      ]
    },
    {
      "cell_type": "code",
      "execution_count": null,
      "metadata": {
        "colab": {
          "base_uri": "https://localhost:8080/"
        },
        "id": "F5ATolswm0I6",
        "outputId": "a1a496f4-157e-4c9f-b414-8f603364ab9a"
      },
      "outputs": [
        {
          "output_type": "stream",
          "name": "stdout",
          "text": [
            "\n",
            "Menu de opções \n",
            "1 - Adicionar um livro a lista\n",
            "2 - Visualizar lista de livros\n",
            "3 - Remover um livro da lista \n",
            "4 - Sair do programa\n",
            "Digite a ação tomada: \n",
            "1\n",
            "\n",
            "Digite o livro que deseja adicionar na lista: aa\n",
            "\n",
            "Menu de opções \n",
            "1 - Adicionar um livro a lista\n",
            "2 - Visualizar lista de livros\n",
            "3 - Remover um livro da lista \n",
            "4 - Sair do programa\n",
            "Digite a ação tomada: \n",
            "1\n",
            "\n",
            "Digite o livro que deseja adicionar na lista: bb\n",
            "\n",
            "Menu de opções \n",
            "1 - Adicionar um livro a lista\n",
            "2 - Visualizar lista de livros\n",
            "3 - Remover um livro da lista \n",
            "4 - Sair do programa\n",
            "Digite a ação tomada: \n",
            "2\n",
            "aa\n",
            "bb\n",
            "\n",
            "Menu de opções \n",
            "1 - Adicionar um livro a lista\n",
            "2 - Visualizar lista de livros\n",
            "3 - Remover um livro da lista \n",
            "4 - Sair do programa\n"
          ]
        }
      ],
      "source": [
        "lista = []\n",
        "while True:\n",
        "  print(\"\"\"\\nMenu de opções\n",
        "1 - Adicionar um livro a lista\n",
        "2 - Visualizar lista de livros\n",
        "3 - Remover um livro da lista\n",
        "4 - Sair do programa\"\"\")\n",
        "  x = int(input(\"Digite a ação tomada: \\n\"))\n",
        "  if x == 1:\n",
        "    y = input(\"\\nDigite o livro que deseja adicionar na lista: \")\n",
        "    lista.append(y)\n",
        "  elif x == 2:\n",
        "    if lista == []:\n",
        "      print(\"A lista de livros está vazia\\n\")\n",
        "    for livros in lista:\n",
        "     print(livros)\n",
        "  elif x == 3:\n",
        "    cont = 1\n",
        "    for livros in lista:\n",
        "      print(f\"{cont} - {livros}\")\n",
        "      cont += 1\n",
        "    y = int(input(\"\\nDigite o número do livro acima que deseja remover\"))\n",
        "    lista.pop((y-1))\n",
        "  elif x == 4:\n",
        "    print(\"Programa encerrado...\")\n",
        "    break"
      ]
    },
    {
      "cell_type": "markdown",
      "metadata": {
        "id": "Krve842KssXL"
      },
      "source": [
        "Elabore um algoritmo que verifica se um número digitado pelo usuário é par ou ímpar. Entretanto, o\n",
        "código abaixo apresenta um erro propositivo e é sua tarefa identificar e corrigir o problema. Após\n",
        "corrigir o erro, teste o programa com diferentes valores de entrada. Certifique-se de que o programa\n",
        "funcione corretamente e exiba a mensagem correta para cada caso. (4,0)"
      ]
    },
    {
      "cell_type": "code",
      "execution_count": null,
      "metadata": {
        "colab": {
          "base_uri": "https://localhost:8080/"
        },
        "id": "EBA6xWbFsK_1",
        "outputId": "c5ffec20-ade3-46aa-c86f-d1d8bfdc9272"
      },
      "outputs": [
        {
          "name": "stdout",
          "output_type": "stream",
          "text": [
            "Digite um número inteiro: 2\n",
            "O número digitado é par\n"
          ]
        }
      ],
      "source": [
        "valor = int(input(\"Digite um número inteiro: \"))\n",
        "if valor % 2 == 0:\n",
        " print(\"O número digitado é par\")\n",
        "else:\n",
        " print(\"O número digitado é ímpar\")"
      ]
    }
  ],
  "metadata": {
    "colab": {
      "provenance": []
    },
    "kernelspec": {
      "display_name": "Python 3",
      "name": "python3"
    },
    "language_info": {
      "name": "python"
    }
  },
  "nbformat": 4,
  "nbformat_minor": 0
}