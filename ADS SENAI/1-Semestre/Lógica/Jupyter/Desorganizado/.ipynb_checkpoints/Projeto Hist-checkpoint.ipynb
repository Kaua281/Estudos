{
 "cells": [
  {
   "cell_type": "code",
   "execution_count": 1,
   "id": "82b7789a",
   "metadata": {},
   "outputs": [],
   "source": [
    "import pyautogui as pya\n",
    "import pyperclip as pyc\n",
    "import time "
   ]
  },
  {
   "cell_type": "code",
   "execution_count": 3,
   "id": "e4d4aa73",
   "metadata": {},
   "outputs": [
    {
     "ename": "NameError",
     "evalue": "name 'Download' is not defined",
     "output_type": "error",
     "traceback": [
      "\u001b[1;31m---------------------------------------------------------------------------\u001b[0m",
      "\u001b[1;31mNameError\u001b[0m                                 Traceback (most recent call last)",
      "\u001b[1;32m~\\AppData\\Local\\Temp/ipykernel_3496/2160156440.py\u001b[0m in \u001b[0;36m<module>\u001b[1;34m\u001b[0m\n\u001b[0;32m     11\u001b[0m \u001b[1;31m# 3 - baixar os arquivos\u001b[0m\u001b[1;33m\u001b[0m\u001b[1;33m\u001b[0m\u001b[0m\n\u001b[0;32m     12\u001b[0m \u001b[0mtime\u001b[0m\u001b[1;33m.\u001b[0m\u001b[0msleep\u001b[0m\u001b[1;33m(\u001b[0m\u001b[1;36m3\u001b[0m\u001b[1;33m)\u001b[0m\u001b[1;33m\u001b[0m\u001b[1;33m\u001b[0m\u001b[0m\n\u001b[1;32m---> 13\u001b[1;33m \u001b[0mpya\u001b[0m\u001b[1;33m.\u001b[0m\u001b[0mclick\u001b[0m\u001b[1;33m(\u001b[0m\u001b[0mDownload\u001b[0m\u001b[1;33m.\u001b[0m\u001b[0mPNG\u001b[0m\u001b[1;33m)\u001b[0m\u001b[1;33m\u001b[0m\u001b[1;33m\u001b[0m\u001b[0m\n\u001b[0m\u001b[0;32m     14\u001b[0m \u001b[1;33m\u001b[0m\u001b[0m\n\u001b[0;32m     15\u001b[0m \u001b[0mtime\u001b[0m\u001b[1;33m.\u001b[0m\u001b[0msleep\u001b[0m\u001b[1;33m(\u001b[0m\u001b[1;36m5\u001b[0m\u001b[1;33m)\u001b[0m\u001b[1;33m\u001b[0m\u001b[1;33m\u001b[0m\u001b[0m\n",
      "\u001b[1;31mNameError\u001b[0m: name 'Download' is not defined"
     ]
    }
   ],
   "source": [
    "\n",
    "# 1 - abrir o gmail\n",
    "pya.hotkey('ctrl', 't')\n",
    "pyc.copy('https://mail.google.com/mail/u/1/#search/pfreitassilva2016%40bol.com.br')\n",
    "pya.hotkey('ctrl', 'v')\n",
    "pya.hotkey('enter')\n",
    "time.sleep(5)\n",
    "\n",
    "# 2 - acessar o email mais recente do professor\n",
    "pya.click(x=636, y=351)\n",
    "\n",
    "# 3 - baixar os arquivos\n",
    "time.sleep(3)\n",
    "pya.click(Download.PNG)\n",
    "\n",
    "time.sleep(5)\n",
    "pya.click(x=499, y=452)\n",
    "\n",
    "# 4 - enviar para o grupo do 3*ano no Whatsapp junto com uma mensagem \n",
    "\n",
    "time.sleep(10)\n",
    "pya.click\n",
    "\n",
    "# 5 - repetir o processo uma vez por semana"
   ]
  },
  {
   "cell_type": "code",
   "execution_count": 17,
   "id": "534a8092",
   "metadata": {
    "scrolled": true
   },
   "outputs": [
    {
     "data": {
      "text/plain": [
       "Point(x=339, y=463)"
      ]
     },
     "execution_count": 17,
     "metadata": {},
     "output_type": "execute_result"
    }
   ],
   "source": [
    "time.sleep(5)\n",
    "pya.position()"
   ]
  },
  {
   "cell_type": "code",
   "execution_count": null,
   "id": "a22c9d2e",
   "metadata": {},
   "outputs": [],
   "source": []
  },
  {
   "cell_type": "code",
   "execution_count": null,
   "id": "fba0c2ef",
   "metadata": {},
   "outputs": [],
   "source": []
  }
 ],
 "metadata": {
  "kernelspec": {
   "display_name": "Python 3 (ipykernel)",
   "language": "python",
   "name": "python3"
  },
  "language_info": {
   "codemirror_mode": {
    "name": "ipython",
    "version": 3
   },
   "file_extension": ".py",
   "mimetype": "text/x-python",
   "name": "python",
   "nbconvert_exporter": "python",
   "pygments_lexer": "ipython3",
   "version": "3.9.7"
  }
 },
 "nbformat": 4,
 "nbformat_minor": 5
}
