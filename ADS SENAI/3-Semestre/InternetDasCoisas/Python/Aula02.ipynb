{
 "cells": [
  {
   "cell_type": "code",
   "execution_count": 1,
   "metadata": {},
   "outputs": [
    {
     "name": "stdout",
     "output_type": "stream",
     "text": [
      "Números pares\n",
      "[22, 34, 56, 68, 54, 52, 12, 14, 18]\n",
      "Números impares\n",
      "[33, 45, 49, 9, 17, 23]\n"
     ]
    }
   ],
   "source": [
    "lista = [22, 34, 56, 68, 33, 45, 54, 52, 49, 12, 9, 14, 18, 17, 23]\n",
    "listaPares = []\n",
    "listaImpares = []\n",
    "for i in lista:\n",
    "    if i%2 == 0:\n",
    "        listaPares.append(i)\n",
    "    else:\n",
    "        listaImpares.append(i)\n",
    "print(f\"Números pares\\n{listaPares}\\nNúmeros impares\\n{listaImpares}\")"
   ]
  },
  {
   "cell_type": "code",
   "execution_count": 3,
   "metadata": {},
   "outputs": [
    {
     "name": "stdout",
     "output_type": "stream",
     "text": [
      "41\n"
     ]
    }
   ],
   "source": [
    "numeros = [5, -3, 10, 8, -2, 15, 7, -9, 4, 6]\n",
    "print(sum(numeros))"
   ]
  },
  {
   "cell_type": "code",
   "execution_count": 7,
   "metadata": {},
   "outputs": [
    {
     "name": "stdout",
     "output_type": "stream",
     "text": [
      "Existem 7 números positivos na lista, sendo eles:\n",
      "[5, 10, 8, 15, 7, 4, 6]\n",
      "Existem 3 números negativos na lista, sendo eles:\n",
      "[-3, -2, -9]\n"
     ]
    }
   ],
   "source": [
    "numeros = [5, -3, 10, 8, -2, 15, 7, -9, 4, 6]\n",
    "Positivos = []\n",
    "Negativos = []\n",
    "for i in numeros:\n",
    "    if i > 0:\n",
    "        Positivos.append(i)\n",
    "    elif i < 0:\n",
    "        Negativos.append(i)\n",
    "print(f\"Existem {len(Positivos)} números positivos na lista, sendo eles:\\n{Positivos}\\nExistem {len(Negativos)} números negativos na lista, sendo eles:\\n{Negativos}\")"
   ]
  },
  {
   "cell_type": "code",
   "execution_count": null,
   "metadata": {},
   "outputs": [],
   "source": [
    "import random\n",
    "import os\n",
    "\n",
    "print(\"Bem vindo ao jogo da adivinhação\\nUm número de 1 a 100 será sorteado, tente acertar o número\")\n",
    "NRandom = random.randint(1,100)\n",
    "contador = 1\n",
    "while True:\n",
    "    print(f\"Você deu {contador} palpites\")\n",
    "    y = int(input(\"Digite um número\"))\n",
    "    if y == NRandom:\n",
    "        print(f\"O número sorteado é {NRandom}, você acertou\")\n",
    "        break\n",
    "    elif y>NRandom:\n",
    "        print(f\"Você errou, {y} é maior que o número sorteado\")\n",
    "    elif y<NRandom:\n",
    "        print(f\"Você errou, {y} é menor que o número sorteado\")\n",
    "    contador+=1\n",
    "    os.system('cls')\n"
   ]
  },
  {
   "cell_type": "markdown",
   "metadata": {},
   "source": [
    ".append() - adiciona um valor a ultima posição\n",
    ".pop() - elimina um valor do vetor\n",
    ".remove() - remove pelo valor\n",
    ".sort() - ordena o vetor de forma progressiva\n",
    ".reverse() - inverte o vetor de forma regressiva\n",
    ".max() - mostra o maior valor de um vetor\n",
    ".min() - mostra o menor valor de um vetor\n",
    ".sum() - soma todos os valores de um vetor\n",
    ".len() - indica a quantidade de itens de um vetor\n",
    ".count() - conta a quantidade de ocorrencias de um valor"
   ]
  },
  {
   "cell_type": "code",
   "execution_count": 69,
   "metadata": {},
   "outputs": [
    {
     "name": "stdout",
     "output_type": "stream",
     "text": [
      "3 mulheres para casar:\n",
      "Ayla\n",
      "Lara\n",
      "Sarah\n",
      "\n",
      "3 mulheres que não vai dar certo:\n",
      "Raquel\n",
      "Cecília\n",
      "Yarin\n"
     ]
    }
   ],
   "source": [
    "import random\n",
    "nomes = [\n",
    "    \"Sofia\", \"Isabela\", \"Helena\", \"Valentina\", \"Laura\",\n",
    "    \"Gabriela\", \"Beatriz\", \"Luísa\", \"Lívia\", \"Maitê\",\n",
    "    \"Cecília\", \"Lara\", \"Maya\", \"Mariana\", \"Maria\",\n",
    "    \"Aurora\", \"Alice\", \"Júlia\", \"Elisa\", \"Liz\",\n",
    "    \"Isis\", \"Laura\", \"Beatriz\", \"Ayla\", \"Lorena\",\n",
    "    \"Luna\", \"Larissa\", \"Rebeca\", \"Maria Eduarda\", \"Laís\",\n",
    "    \"Heloísa\", \"Antonella\", \"Eloá\", \"Ana Sophia\", \"Luísa\",\n",
    "    \"Alícia\", \"Sofia\", \"Yarin\", \"Raquel\", \"Lia\",\n",
    "    \"Sara\", \"Sarah\", \"Débora\", \"Talita\", \"Marta\"\n",
    "]\n",
    "print(\"3 mulheres para casar:\")\n",
    "for i in range(1,3+1):\n",
    "    x = random.randint(0, len(nomes)-1)\n",
    "    print(nomes[x])\n",
    "    nomes.pop(x)\n",
    "print(\"\\n3 mulheres que não vai dar certo:\")\n",
    "for i in range(1,3+1):\n",
    "    x = random.randint(0, len(nomes)-1)\n",
    "    print(nomes[x])\n",
    "    nomes.pop(x)"
   ]
  }
 ],
 "metadata": {
  "kernelspec": {
   "display_name": "Python 3",
   "language": "python",
   "name": "python3"
  },
  "language_info": {
   "codemirror_mode": {
    "name": "ipython",
    "version": 3
   },
   "file_extension": ".py",
   "mimetype": "text/x-python",
   "name": "python",
   "nbconvert_exporter": "python",
   "pygments_lexer": "ipython3",
   "version": "3.11.8"
  }
 },
 "nbformat": 4,
 "nbformat_minor": 2
}
