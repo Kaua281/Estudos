{
 "cells": [
  {
   "cell_type": "code",
   "execution_count": 2,
   "metadata": {},
   "outputs": [
    {
     "data": {
      "text/plain": [
       "30.0"
      ]
     },
     "execution_count": 2,
     "metadata": {},
     "output_type": "execute_result"
    }
   ],
   "source": [
    "def media(numeros):\n",
    "    if len(numeros) == 0:\n",
    "        return None\n",
    "    else:\n",
    "        return (sum(numeros)/len(numeros))\n",
    "\n",
    "numeros = [10, 20, 30, 40, 50]\n",
    "media(numeros)"
   ]
  },
  {
   "cell_type": "code",
   "execution_count": 6,
   "metadata": {},
   "outputs": [
    {
     "name": "stdout",
     "output_type": "stream",
     "text": [
      "Kaua\n",
      "Kalyne\n"
     ]
    }
   ],
   "source": [
    "nomes = [\"Kaua\",\"Thiago\",\"Levi\",\"Vinicius\",\"Kalyne\"]\n",
    "for x in nomes:\n",
    "    if x.startswith('K'):\n",
    "        print(x)"
   ]
  },
  {
   "cell_type": "code",
   "execution_count": 6,
   "metadata": {},
   "outputs": [
    {
     "name": "stdout",
     "output_type": "stream",
     "text": [
      "Ana\n",
      "Adriana\n",
      "Anailton\n"
     ]
    }
   ],
   "source": [
    "def nomesComA():\n",
    "    nomes = []        \n",
    "    for i in range(0,6):\n",
    "        nome = input(\"Digite um nome:\").strip().capitalize()\n",
    "        nomes.append(nome)\n",
    "    return nomes\n",
    "\n",
    "def imprimir():\n",
    "    nomes = nomesComA()\n",
    "    for nome in nomes:\n",
    "        if (nome.startswith('A')):\n",
    "            print(nome)\n",
    "\n",
    "imprimir()"
   ]
  }
 ],
 "metadata": {
  "kernelspec": {
   "display_name": "Python 3",
   "language": "python",
   "name": "python3"
  },
  "language_info": {
   "codemirror_mode": {
    "name": "ipython",
    "version": 3
   },
   "file_extension": ".py",
   "mimetype": "text/x-python",
   "name": "python",
   "nbconvert_exporter": "python",
   "pygments_lexer": "ipython3",
   "version": "3.11.8"
  }
 },
 "nbformat": 4,
 "nbformat_minor": 2
}
